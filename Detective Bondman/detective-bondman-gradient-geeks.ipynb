{
 "cells": [
  {
   "cell_type": "code",
   "execution_count": 1,
   "id": "7cfff05e",
   "metadata": {
    "_cell_guid": "b1076dfc-b9ad-4769-8c92-a6c4dae69d19",
    "_uuid": "8f2839f25d086af736a60e9eeb907d3b93b6e0e5",
    "execution": {
     "iopub.execute_input": "2023-11-26T11:29:42.242829Z",
     "iopub.status.busy": "2023-11-26T11:29:42.242454Z",
     "iopub.status.idle": "2023-11-26T11:29:42.562062Z",
     "shell.execute_reply": "2023-11-26T11:29:42.560482Z"
    },
    "papermill": {
     "duration": 0.333542,
     "end_time": "2023-11-26T11:29:42.564662",
     "exception": false,
     "start_time": "2023-11-26T11:29:42.231120",
     "status": "completed"
    },
    "tags": []
   },
   "outputs": [
    {
     "name": "stdout",
     "output_type": "stream",
     "text": [
      "/kaggle/input/anyas-gojo-revival-bondman/sample_submission.csv\n",
      "/kaggle/input/anyas-gojo-revival-bondman/trainData.csv\n",
      "/kaggle/input/anyas-gojo-revival-bondman/testData.csv\n",
      "/kaggle/input/anya-fraud/anyas-gojo-revival-bondman/sample_submission.csv\n",
      "/kaggle/input/anya-fraud/anyas-gojo-revival-bondman/trainData.csv\n",
      "/kaggle/input/anya-fraud/anyas-gojo-revival-bondman/testData.csv\n"
     ]
    }
   ],
   "source": [
    "# This Python 3 environment comes with many helpful analytics libraries installed\n",
    "# It is defined by the kaggle/python Docker image: https://github.com/kaggle/docker-python\n",
    "# For example, here's several helpful packages to load\n",
    "\n",
    "import numpy as np # linear algebra\n",
    "import pandas as pd # data processing, CSV file I/O (e.g. pd.read_csv)\n",
    "\n",
    "# Input data files are available in the read-only \"../input/\" directory\n",
    "# For example, running this (by clicking run or pressing Shift+Enter) will list all files under the input directory\n",
    "\n",
    "import os\n",
    "for dirname, _, filenames in os.walk('/kaggle/input'):\n",
    "    for filename in filenames:\n",
    "        print(os.path.join(dirname, filename))\n",
    "\n",
    "# You can write up to 20GB to the current directory (/kaggle/working/) that gets preserved as output when you create a version using \"Save & Run All\" \n",
    "# You can also write temporary files to /kaggle/temp/, but they won't be saved outside of the current session"
   ]
  },
  {
   "cell_type": "markdown",
   "id": "aaf9bdf4",
   "metadata": {
    "papermill": {
     "duration": 0.009401,
     "end_time": "2023-11-26T11:29:42.584107",
     "exception": false,
     "start_time": "2023-11-26T11:29:42.574706",
     "status": "completed"
    },
    "tags": []
   },
   "source": [
    "# Fraud Detection Model Building and Evaluation"
   ]
  },
  {
   "cell_type": "code",
   "execution_count": 2,
   "id": "83a39a6a",
   "metadata": {
    "execution": {
     "iopub.execute_input": "2023-11-26T11:29:42.605450Z",
     "iopub.status.busy": "2023-11-26T11:29:42.605021Z",
     "iopub.status.idle": "2023-11-26T11:29:45.474783Z",
     "shell.execute_reply": "2023-11-26T11:29:45.473645Z"
    },
    "papermill": {
     "duration": 2.882734,
     "end_time": "2023-11-26T11:29:45.476985",
     "exception": false,
     "start_time": "2023-11-26T11:29:42.594251",
     "status": "completed"
    },
    "tags": []
   },
   "outputs": [],
   "source": [
    "from matplotlib import pyplot as plt\n",
    "import seaborn as sns\n",
    "from sklearn.model_selection import train_test_split\n",
    "\n",
    "#Plotly\n",
    "import plotly.express as px\n",
    "import plotly.graph_objects as go\n",
    "\n",
    "import warnings\n",
    "warnings.filterwarnings(\"ignore\")\n",
    "\n",
    "from sklearn.ensemble import RandomForestClassifier\n",
    "from xgboost import XGBClassifier\n",
    "\n",
    "from sklearn.metrics import accuracy_score,roc_auc_score\n",
    "\n",
    "from sklearn.metrics import confusion_matrix,classification_report\n",
    "import pickle\n",
    "import datetime"
   ]
  },
  {
   "cell_type": "markdown",
   "id": "9a45c0fd",
   "metadata": {
    "papermill": {
     "duration": 0.009305,
     "end_time": "2023-11-26T11:29:45.497843",
     "exception": false,
     "start_time": "2023-11-26T11:29:45.488538",
     "status": "completed"
    },
    "tags": []
   },
   "source": [
    "## 1. Data Loading and Exploration\n",
    "* ### Loaded the training dataset.\n",
    "* ### Checked the shape, first rows, null values, and data types of the training dataset."
   ]
  },
  {
   "cell_type": "code",
   "execution_count": 3,
   "id": "63978f60",
   "metadata": {
    "execution": {
     "iopub.execute_input": "2023-11-26T11:29:45.518927Z",
     "iopub.status.busy": "2023-11-26T11:29:45.518065Z",
     "iopub.status.idle": "2023-11-26T11:29:50.142312Z",
     "shell.execute_reply": "2023-11-26T11:29:50.141109Z"
    },
    "papermill": {
     "duration": 4.636894,
     "end_time": "2023-11-26T11:29:50.144356",
     "exception": false,
     "start_time": "2023-11-26T11:29:45.507462",
     "status": "completed"
    },
    "tags": []
   },
   "outputs": [
    {
     "data": {
      "text/html": [
       "<div>\n",
       "<style scoped>\n",
       "    .dataframe tbody tr th:only-of-type {\n",
       "        vertical-align: middle;\n",
       "    }\n",
       "\n",
       "    .dataframe tbody tr th {\n",
       "        vertical-align: top;\n",
       "    }\n",
       "\n",
       "    .dataframe thead th {\n",
       "        text-align: right;\n",
       "    }\n",
       "</style>\n",
       "<table border=\"1\" class=\"dataframe\">\n",
       "  <thead>\n",
       "    <tr style=\"text-align: right;\">\n",
       "      <th></th>\n",
       "      <th>id</th>\n",
       "      <th>trans_date_trans_time</th>\n",
       "      <th>cc_num</th>\n",
       "      <th>merchant</th>\n",
       "      <th>category</th>\n",
       "      <th>amt</th>\n",
       "      <th>first</th>\n",
       "      <th>last</th>\n",
       "      <th>gender</th>\n",
       "      <th>street</th>\n",
       "      <th>...</th>\n",
       "      <th>lat</th>\n",
       "      <th>long</th>\n",
       "      <th>city_pop</th>\n",
       "      <th>job</th>\n",
       "      <th>dob</th>\n",
       "      <th>trans_num</th>\n",
       "      <th>unix_time</th>\n",
       "      <th>merch_lat</th>\n",
       "      <th>merch_long</th>\n",
       "      <th>is_fraud</th>\n",
       "    </tr>\n",
       "  </thead>\n",
       "  <tbody>\n",
       "    <tr>\n",
       "      <th>0</th>\n",
       "      <td>1</td>\n",
       "      <td>2019-12-15 10:35:10</td>\n",
       "      <td>3597926034019603</td>\n",
       "      <td>fraud_Ruecker Group</td>\n",
       "      <td>misc_net</td>\n",
       "      <td>7.19</td>\n",
       "      <td>Derrick</td>\n",
       "      <td>Flores</td>\n",
       "      <td>M</td>\n",
       "      <td>83690 Nicholas Ports Apt. 846</td>\n",
       "      <td>...</td>\n",
       "      <td>35.2229</td>\n",
       "      <td>-89.5518</td>\n",
       "      <td>9496</td>\n",
       "      <td>Furniture conservator/restorer</td>\n",
       "      <td>1993-03-23</td>\n",
       "      <td>2642fec2e19c9e18e61fe9a88f6bc79a</td>\n",
       "      <td>1355567710</td>\n",
       "      <td>35.189455</td>\n",
       "      <td>-90.121666</td>\n",
       "      <td>0</td>\n",
       "    </tr>\n",
       "    <tr>\n",
       "      <th>1</th>\n",
       "      <td>2</td>\n",
       "      <td>2019-04-10 21:49:53</td>\n",
       "      <td>4873783502705038</td>\n",
       "      <td>fraud_Lynch Ltd</td>\n",
       "      <td>shopping_pos</td>\n",
       "      <td>6.32</td>\n",
       "      <td>Elizabeth</td>\n",
       "      <td>Maxwell</td>\n",
       "      <td>F</td>\n",
       "      <td>194 Goodman Fall Apt. 569</td>\n",
       "      <td>...</td>\n",
       "      <td>48.4786</td>\n",
       "      <td>-122.3345</td>\n",
       "      <td>14871</td>\n",
       "      <td>Public house manager</td>\n",
       "      <td>1974-03-10</td>\n",
       "      <td>61cec15bdbd3db31b12f886e8e181380</td>\n",
       "      <td>1334094593</td>\n",
       "      <td>49.004316</td>\n",
       "      <td>-122.745016</td>\n",
       "      <td>0</td>\n",
       "    </tr>\n",
       "    <tr>\n",
       "      <th>2</th>\n",
       "      <td>3</td>\n",
       "      <td>2020-02-16 10:56:18</td>\n",
       "      <td>213161869125933</td>\n",
       "      <td>fraud_Bauch-Raynor</td>\n",
       "      <td>grocery_pos</td>\n",
       "      <td>147.59</td>\n",
       "      <td>Monica</td>\n",
       "      <td>Lane</td>\n",
       "      <td>F</td>\n",
       "      <td>3270 Scott Islands</td>\n",
       "      <td>...</td>\n",
       "      <td>44.6084</td>\n",
       "      <td>-70.6993</td>\n",
       "      <td>190</td>\n",
       "      <td>Animal nutritionist</td>\n",
       "      <td>1970-04-17</td>\n",
       "      <td>c8fcf575540e37ce0822cd040148ff57</td>\n",
       "      <td>1361012178</td>\n",
       "      <td>44.455449</td>\n",
       "      <td>-70.809148</td>\n",
       "      <td>0</td>\n",
       "    </tr>\n",
       "    <tr>\n",
       "      <th>3</th>\n",
       "      <td>4</td>\n",
       "      <td>2020-04-30 16:14:16</td>\n",
       "      <td>374656033243756</td>\n",
       "      <td>fraud_Effertz, Welch and Schowalter</td>\n",
       "      <td>entertainment</td>\n",
       "      <td>32.40</td>\n",
       "      <td>David</td>\n",
       "      <td>Lewis</td>\n",
       "      <td>M</td>\n",
       "      <td>1499 Michael Rue</td>\n",
       "      <td>...</td>\n",
       "      <td>38.8954</td>\n",
       "      <td>-77.1633</td>\n",
       "      <td>207410</td>\n",
       "      <td>Mudlogger</td>\n",
       "      <td>1984-07-03</td>\n",
       "      <td>9e9cde0e0963ac746a2cc9938e171c9a</td>\n",
       "      <td>1367338456</td>\n",
       "      <td>39.476941</td>\n",
       "      <td>-77.613438</td>\n",
       "      <td>0</td>\n",
       "    </tr>\n",
       "    <tr>\n",
       "      <th>4</th>\n",
       "      <td>5</td>\n",
       "      <td>2019-12-05 21:07:59</td>\n",
       "      <td>6011999606625827</td>\n",
       "      <td>fraud_Wilkinson LLC</td>\n",
       "      <td>personal_care</td>\n",
       "      <td>29.79</td>\n",
       "      <td>Ronald</td>\n",
       "      <td>Carson</td>\n",
       "      <td>M</td>\n",
       "      <td>870 Rocha Drive</td>\n",
       "      <td>...</td>\n",
       "      <td>40.9918</td>\n",
       "      <td>-73.9800</td>\n",
       "      <td>4664</td>\n",
       "      <td>Radiographer, diagnostic</td>\n",
       "      <td>1965-06-30</td>\n",
       "      <td>0742473d7f6261ce366b43ece063faf3</td>\n",
       "      <td>1354741679</td>\n",
       "      <td>40.863808</td>\n",
       "      <td>-74.674018</td>\n",
       "      <td>0</td>\n",
       "    </tr>\n",
       "    <tr>\n",
       "      <th>...</th>\n",
       "      <td>...</td>\n",
       "      <td>...</td>\n",
       "      <td>...</td>\n",
       "      <td>...</td>\n",
       "      <td>...</td>\n",
       "      <td>...</td>\n",
       "      <td>...</td>\n",
       "      <td>...</td>\n",
       "      <td>...</td>\n",
       "      <td>...</td>\n",
       "      <td>...</td>\n",
       "      <td>...</td>\n",
       "      <td>...</td>\n",
       "      <td>...</td>\n",
       "      <td>...</td>\n",
       "      <td>...</td>\n",
       "      <td>...</td>\n",
       "      <td>...</td>\n",
       "      <td>...</td>\n",
       "      <td>...</td>\n",
       "      <td>...</td>\n",
       "    </tr>\n",
       "    <tr>\n",
       "      <th>523169</th>\n",
       "      <td>523170</td>\n",
       "      <td>2020-06-17 05:58:27</td>\n",
       "      <td>5154903938030655</td>\n",
       "      <td>fraud_Kerluke, Considine and Macejkovic</td>\n",
       "      <td>misc_net</td>\n",
       "      <td>22.71</td>\n",
       "      <td>Felicia</td>\n",
       "      <td>Combs</td>\n",
       "      <td>F</td>\n",
       "      <td>825 Martinez Springs Apt. 625</td>\n",
       "      <td>...</td>\n",
       "      <td>37.7827</td>\n",
       "      <td>-80.3129</td>\n",
       "      <td>5216</td>\n",
       "      <td>Community development worker</td>\n",
       "      <td>1993-10-05</td>\n",
       "      <td>3a8126f91af30c99f654b9397ce8c454</td>\n",
       "      <td>1371448707</td>\n",
       "      <td>38.781304</td>\n",
       "      <td>-80.110562</td>\n",
       "      <td>0</td>\n",
       "    </tr>\n",
       "    <tr>\n",
       "      <th>523170</th>\n",
       "      <td>523171</td>\n",
       "      <td>2019-03-24 16:26:29</td>\n",
       "      <td>4067137330196900</td>\n",
       "      <td>fraud_Kuhn Group</td>\n",
       "      <td>food_dining</td>\n",
       "      <td>3.47</td>\n",
       "      <td>Christina</td>\n",
       "      <td>Eaton</td>\n",
       "      <td>F</td>\n",
       "      <td>3256 Brooks Field</td>\n",
       "      <td>...</td>\n",
       "      <td>33.9315</td>\n",
       "      <td>-87.6194</td>\n",
       "      <td>1186</td>\n",
       "      <td>Politician's assistant</td>\n",
       "      <td>1986-11-12</td>\n",
       "      <td>24c8c6a7c5628abbd6231a62b948656f</td>\n",
       "      <td>1332606389</td>\n",
       "      <td>34.684771</td>\n",
       "      <td>-86.703349</td>\n",
       "      <td>0</td>\n",
       "    </tr>\n",
       "    <tr>\n",
       "      <th>523171</th>\n",
       "      <td>523172</td>\n",
       "      <td>2019-12-02 09:37:54</td>\n",
       "      <td>4538566639857</td>\n",
       "      <td>fraud_Bins, Balistreri and Beatty</td>\n",
       "      <td>shopping_pos</td>\n",
       "      <td>3.01</td>\n",
       "      <td>Jerry</td>\n",
       "      <td>Kelly</td>\n",
       "      <td>M</td>\n",
       "      <td>3539 Mckenzie Stream</td>\n",
       "      <td>...</td>\n",
       "      <td>40.8170</td>\n",
       "      <td>-74.0000</td>\n",
       "      <td>13835</td>\n",
       "      <td>Programmer, multimedia</td>\n",
       "      <td>1967-05-28</td>\n",
       "      <td>38d1c235fc36003fe46b6187054f2083</td>\n",
       "      <td>1354441074</td>\n",
       "      <td>40.201126</td>\n",
       "      <td>-74.508935</td>\n",
       "      <td>0</td>\n",
       "    </tr>\n",
       "    <tr>\n",
       "      <th>523172</th>\n",
       "      <td>523173</td>\n",
       "      <td>2019-04-09 09:41:29</td>\n",
       "      <td>630484879808</td>\n",
       "      <td>fraud_Kuhic, Bins and Pfeffer</td>\n",
       "      <td>shopping_net</td>\n",
       "      <td>107.92</td>\n",
       "      <td>Ian</td>\n",
       "      <td>Patton</td>\n",
       "      <td>M</td>\n",
       "      <td>8088 Sherman Radial Suite 689</td>\n",
       "      <td>...</td>\n",
       "      <td>36.4992</td>\n",
       "      <td>-120.0936</td>\n",
       "      <td>123</td>\n",
       "      <td>Early years teacher</td>\n",
       "      <td>1973-02-07</td>\n",
       "      <td>470dc450b589c93f893dcd23f5ecc2a9</td>\n",
       "      <td>1333964489</td>\n",
       "      <td>37.053394</td>\n",
       "      <td>-120.609172</td>\n",
       "      <td>0</td>\n",
       "    </tr>\n",
       "    <tr>\n",
       "      <th>523173</th>\n",
       "      <td>523174</td>\n",
       "      <td>2019-06-26 18:29:38</td>\n",
       "      <td>30273037698427</td>\n",
       "      <td>fraud_Denesik and Sons</td>\n",
       "      <td>shopping_pos</td>\n",
       "      <td>138.92</td>\n",
       "      <td>Andrew</td>\n",
       "      <td>Patterson</td>\n",
       "      <td>M</td>\n",
       "      <td>06959 Stephen Branch Suite 246</td>\n",
       "      <td>...</td>\n",
       "      <td>35.5762</td>\n",
       "      <td>-91.4539</td>\n",
       "      <td>111</td>\n",
       "      <td>Careers information officer</td>\n",
       "      <td>2000-06-13</td>\n",
       "      <td>e75b7625b47b48536c4a7ce5efa77512</td>\n",
       "      <td>1340735378</td>\n",
       "      <td>36.532570</td>\n",
       "      <td>-91.066545</td>\n",
       "      <td>0</td>\n",
       "    </tr>\n",
       "  </tbody>\n",
       "</table>\n",
       "<p>523174 rows × 23 columns</p>\n",
       "</div>"
      ],
      "text/plain": [
       "            id trans_date_trans_time            cc_num  \\\n",
       "0            1   2019-12-15 10:35:10  3597926034019603   \n",
       "1            2   2019-04-10 21:49:53  4873783502705038   \n",
       "2            3   2020-02-16 10:56:18   213161869125933   \n",
       "3            4   2020-04-30 16:14:16   374656033243756   \n",
       "4            5   2019-12-05 21:07:59  6011999606625827   \n",
       "...        ...                   ...               ...   \n",
       "523169  523170   2020-06-17 05:58:27  5154903938030655   \n",
       "523170  523171   2019-03-24 16:26:29  4067137330196900   \n",
       "523171  523172   2019-12-02 09:37:54     4538566639857   \n",
       "523172  523173   2019-04-09 09:41:29      630484879808   \n",
       "523173  523174   2019-06-26 18:29:38    30273037698427   \n",
       "\n",
       "                                       merchant       category     amt  \\\n",
       "0                           fraud_Ruecker Group       misc_net    7.19   \n",
       "1                               fraud_Lynch Ltd   shopping_pos    6.32   \n",
       "2                            fraud_Bauch-Raynor    grocery_pos  147.59   \n",
       "3           fraud_Effertz, Welch and Schowalter  entertainment   32.40   \n",
       "4                           fraud_Wilkinson LLC  personal_care   29.79   \n",
       "...                                         ...            ...     ...   \n",
       "523169  fraud_Kerluke, Considine and Macejkovic       misc_net   22.71   \n",
       "523170                         fraud_Kuhn Group    food_dining    3.47   \n",
       "523171        fraud_Bins, Balistreri and Beatty   shopping_pos    3.01   \n",
       "523172            fraud_Kuhic, Bins and Pfeffer   shopping_net  107.92   \n",
       "523173                   fraud_Denesik and Sons   shopping_pos  138.92   \n",
       "\n",
       "            first       last gender                          street  ...  \\\n",
       "0         Derrick     Flores      M   83690 Nicholas Ports Apt. 846  ...   \n",
       "1       Elizabeth    Maxwell      F       194 Goodman Fall Apt. 569  ...   \n",
       "2          Monica       Lane      F              3270 Scott Islands  ...   \n",
       "3           David      Lewis      M                1499 Michael Rue  ...   \n",
       "4          Ronald     Carson      M                 870 Rocha Drive  ...   \n",
       "...           ...        ...    ...                             ...  ...   \n",
       "523169    Felicia      Combs      F   825 Martinez Springs Apt. 625  ...   \n",
       "523170  Christina      Eaton      F               3256 Brooks Field  ...   \n",
       "523171      Jerry      Kelly      M            3539 Mckenzie Stream  ...   \n",
       "523172        Ian     Patton      M   8088 Sherman Radial Suite 689  ...   \n",
       "523173     Andrew  Patterson      M  06959 Stephen Branch Suite 246  ...   \n",
       "\n",
       "            lat      long  city_pop                             job  \\\n",
       "0       35.2229  -89.5518      9496  Furniture conservator/restorer   \n",
       "1       48.4786 -122.3345     14871            Public house manager   \n",
       "2       44.6084  -70.6993       190             Animal nutritionist   \n",
       "3       38.8954  -77.1633    207410                       Mudlogger   \n",
       "4       40.9918  -73.9800      4664        Radiographer, diagnostic   \n",
       "...         ...       ...       ...                             ...   \n",
       "523169  37.7827  -80.3129      5216    Community development worker   \n",
       "523170  33.9315  -87.6194      1186          Politician's assistant   \n",
       "523171  40.8170  -74.0000     13835          Programmer, multimedia   \n",
       "523172  36.4992 -120.0936       123             Early years teacher   \n",
       "523173  35.5762  -91.4539       111     Careers information officer   \n",
       "\n",
       "               dob                         trans_num   unix_time  merch_lat  \\\n",
       "0       1993-03-23  2642fec2e19c9e18e61fe9a88f6bc79a  1355567710  35.189455   \n",
       "1       1974-03-10  61cec15bdbd3db31b12f886e8e181380  1334094593  49.004316   \n",
       "2       1970-04-17  c8fcf575540e37ce0822cd040148ff57  1361012178  44.455449   \n",
       "3       1984-07-03  9e9cde0e0963ac746a2cc9938e171c9a  1367338456  39.476941   \n",
       "4       1965-06-30  0742473d7f6261ce366b43ece063faf3  1354741679  40.863808   \n",
       "...            ...                               ...         ...        ...   \n",
       "523169  1993-10-05  3a8126f91af30c99f654b9397ce8c454  1371448707  38.781304   \n",
       "523170  1986-11-12  24c8c6a7c5628abbd6231a62b948656f  1332606389  34.684771   \n",
       "523171  1967-05-28  38d1c235fc36003fe46b6187054f2083  1354441074  40.201126   \n",
       "523172  1973-02-07  470dc450b589c93f893dcd23f5ecc2a9  1333964489  37.053394   \n",
       "523173  2000-06-13  e75b7625b47b48536c4a7ce5efa77512  1340735378  36.532570   \n",
       "\n",
       "        merch_long  is_fraud  \n",
       "0       -90.121666         0  \n",
       "1      -122.745016         0  \n",
       "2       -70.809148         0  \n",
       "3       -77.613438         0  \n",
       "4       -74.674018         0  \n",
       "...            ...       ...  \n",
       "523169  -80.110562         0  \n",
       "523170  -86.703349         0  \n",
       "523171  -74.508935         0  \n",
       "523172 -120.609172         0  \n",
       "523173  -91.066545         0  \n",
       "\n",
       "[523174 rows x 23 columns]"
      ]
     },
     "execution_count": 3,
     "metadata": {},
     "output_type": "execute_result"
    }
   ],
   "source": [
    "#reading the trainset\n",
    "train=pd.read_csv(\"/kaggle/input/anyas-gojo-revival-bondman/trainData.csv\")\n",
    "train"
   ]
  },
  {
   "cell_type": "code",
   "execution_count": 4,
   "id": "2e04ae81",
   "metadata": {
    "execution": {
     "iopub.execute_input": "2023-11-26T11:29:50.166246Z",
     "iopub.status.busy": "2023-11-26T11:29:50.165902Z",
     "iopub.status.idle": "2023-11-26T11:29:50.171998Z",
     "shell.execute_reply": "2023-11-26T11:29:50.170609Z"
    },
    "papermill": {
     "duration": 0.01936,
     "end_time": "2023-11-26T11:29:50.173901",
     "exception": false,
     "start_time": "2023-11-26T11:29:50.154541",
     "status": "completed"
    },
    "tags": []
   },
   "outputs": [
    {
     "name": "stdout",
     "output_type": "stream",
     "text": [
      "(523174, 23)\n"
     ]
    }
   ],
   "source": [
    "#printing the trainset\n",
    "print(train.shape)"
   ]
  },
  {
   "cell_type": "code",
   "execution_count": 5,
   "id": "65b19961",
   "metadata": {
    "execution": {
     "iopub.execute_input": "2023-11-26T11:29:50.194898Z",
     "iopub.status.busy": "2023-11-26T11:29:50.194535Z",
     "iopub.status.idle": "2023-11-26T11:29:50.213656Z",
     "shell.execute_reply": "2023-11-26T11:29:50.212422Z"
    },
    "papermill": {
     "duration": 0.032722,
     "end_time": "2023-11-26T11:29:50.216572",
     "exception": false,
     "start_time": "2023-11-26T11:29:50.183850",
     "status": "completed"
    },
    "tags": []
   },
   "outputs": [
    {
     "data": {
      "text/html": [
       "<div>\n",
       "<style scoped>\n",
       "    .dataframe tbody tr th:only-of-type {\n",
       "        vertical-align: middle;\n",
       "    }\n",
       "\n",
       "    .dataframe tbody tr th {\n",
       "        vertical-align: top;\n",
       "    }\n",
       "\n",
       "    .dataframe thead th {\n",
       "        text-align: right;\n",
       "    }\n",
       "</style>\n",
       "<table border=\"1\" class=\"dataframe\">\n",
       "  <thead>\n",
       "    <tr style=\"text-align: right;\">\n",
       "      <th></th>\n",
       "      <th>id</th>\n",
       "      <th>trans_date_trans_time</th>\n",
       "      <th>cc_num</th>\n",
       "      <th>merchant</th>\n",
       "      <th>category</th>\n",
       "      <th>amt</th>\n",
       "      <th>first</th>\n",
       "      <th>last</th>\n",
       "      <th>gender</th>\n",
       "      <th>street</th>\n",
       "      <th>...</th>\n",
       "      <th>lat</th>\n",
       "      <th>long</th>\n",
       "      <th>city_pop</th>\n",
       "      <th>job</th>\n",
       "      <th>dob</th>\n",
       "      <th>trans_num</th>\n",
       "      <th>unix_time</th>\n",
       "      <th>merch_lat</th>\n",
       "      <th>merch_long</th>\n",
       "      <th>is_fraud</th>\n",
       "    </tr>\n",
       "  </thead>\n",
       "  <tbody>\n",
       "    <tr>\n",
       "      <th>0</th>\n",
       "      <td>1</td>\n",
       "      <td>2019-12-15 10:35:10</td>\n",
       "      <td>3597926034019603</td>\n",
       "      <td>fraud_Ruecker Group</td>\n",
       "      <td>misc_net</td>\n",
       "      <td>7.19</td>\n",
       "      <td>Derrick</td>\n",
       "      <td>Flores</td>\n",
       "      <td>M</td>\n",
       "      <td>83690 Nicholas Ports Apt. 846</td>\n",
       "      <td>...</td>\n",
       "      <td>35.2229</td>\n",
       "      <td>-89.5518</td>\n",
       "      <td>9496</td>\n",
       "      <td>Furniture conservator/restorer</td>\n",
       "      <td>1993-03-23</td>\n",
       "      <td>2642fec2e19c9e18e61fe9a88f6bc79a</td>\n",
       "      <td>1355567710</td>\n",
       "      <td>35.189455</td>\n",
       "      <td>-90.121666</td>\n",
       "      <td>0</td>\n",
       "    </tr>\n",
       "    <tr>\n",
       "      <th>1</th>\n",
       "      <td>2</td>\n",
       "      <td>2019-04-10 21:49:53</td>\n",
       "      <td>4873783502705038</td>\n",
       "      <td>fraud_Lynch Ltd</td>\n",
       "      <td>shopping_pos</td>\n",
       "      <td>6.32</td>\n",
       "      <td>Elizabeth</td>\n",
       "      <td>Maxwell</td>\n",
       "      <td>F</td>\n",
       "      <td>194 Goodman Fall Apt. 569</td>\n",
       "      <td>...</td>\n",
       "      <td>48.4786</td>\n",
       "      <td>-122.3345</td>\n",
       "      <td>14871</td>\n",
       "      <td>Public house manager</td>\n",
       "      <td>1974-03-10</td>\n",
       "      <td>61cec15bdbd3db31b12f886e8e181380</td>\n",
       "      <td>1334094593</td>\n",
       "      <td>49.004316</td>\n",
       "      <td>-122.745016</td>\n",
       "      <td>0</td>\n",
       "    </tr>\n",
       "  </tbody>\n",
       "</table>\n",
       "<p>2 rows × 23 columns</p>\n",
       "</div>"
      ],
      "text/plain": [
       "   id trans_date_trans_time            cc_num             merchant  \\\n",
       "0   1   2019-12-15 10:35:10  3597926034019603  fraud_Ruecker Group   \n",
       "1   2   2019-04-10 21:49:53  4873783502705038      fraud_Lynch Ltd   \n",
       "\n",
       "       category   amt      first     last gender  \\\n",
       "0      misc_net  7.19    Derrick   Flores      M   \n",
       "1  shopping_pos  6.32  Elizabeth  Maxwell      F   \n",
       "\n",
       "                          street  ...      lat      long  city_pop  \\\n",
       "0  83690 Nicholas Ports Apt. 846  ...  35.2229  -89.5518      9496   \n",
       "1      194 Goodman Fall Apt. 569  ...  48.4786 -122.3345     14871   \n",
       "\n",
       "                              job         dob  \\\n",
       "0  Furniture conservator/restorer  1993-03-23   \n",
       "1            Public house manager  1974-03-10   \n",
       "\n",
       "                          trans_num   unix_time  merch_lat  merch_long  \\\n",
       "0  2642fec2e19c9e18e61fe9a88f6bc79a  1355567710  35.189455  -90.121666   \n",
       "1  61cec15bdbd3db31b12f886e8e181380  1334094593  49.004316 -122.745016   \n",
       "\n",
       "   is_fraud  \n",
       "0         0  \n",
       "1         0  \n",
       "\n",
       "[2 rows x 23 columns]"
      ]
     },
     "execution_count": 5,
     "metadata": {},
     "output_type": "execute_result"
    }
   ],
   "source": [
    "train.head(2)"
   ]
  },
  {
   "cell_type": "code",
   "execution_count": 6,
   "id": "9783279b",
   "metadata": {
    "execution": {
     "iopub.execute_input": "2023-11-26T11:29:50.240023Z",
     "iopub.status.busy": "2023-11-26T11:29:50.238324Z",
     "iopub.status.idle": "2023-11-26T11:29:50.244691Z",
     "shell.execute_reply": "2023-11-26T11:29:50.243676Z"
    },
    "papermill": {
     "duration": 0.020154,
     "end_time": "2023-11-26T11:29:50.247068",
     "exception": false,
     "start_time": "2023-11-26T11:29:50.226914",
     "status": "completed"
    },
    "tags": []
   },
   "outputs": [
    {
     "name": "stdout",
     "output_type": "stream",
     "text": [
      "The data:(523174, 23)\n"
     ]
    }
   ],
   "source": [
    "print(\"The data:{}\".format(train.shape))"
   ]
  },
  {
   "cell_type": "code",
   "execution_count": 7,
   "id": "b3df2785",
   "metadata": {
    "execution": {
     "iopub.execute_input": "2023-11-26T11:29:50.270494Z",
     "iopub.status.busy": "2023-11-26T11:29:50.270128Z",
     "iopub.status.idle": "2023-11-26T11:29:50.468124Z",
     "shell.execute_reply": "2023-11-26T11:29:50.467094Z"
    },
    "papermill": {
     "duration": 0.212238,
     "end_time": "2023-11-26T11:29:50.470467",
     "exception": false,
     "start_time": "2023-11-26T11:29:50.258229",
     "status": "completed"
    },
    "tags": []
   },
   "outputs": [
    {
     "data": {
      "text/plain": [
       "id                       0\n",
       "trans_date_trans_time    0\n",
       "cc_num                   0\n",
       "merchant                 0\n",
       "category                 0\n",
       "amt                      0\n",
       "first                    0\n",
       "last                     0\n",
       "gender                   0\n",
       "street                   0\n",
       "city                     0\n",
       "state                    0\n",
       "zip                      0\n",
       "lat                      0\n",
       "long                     0\n",
       "city_pop                 0\n",
       "job                      0\n",
       "dob                      0\n",
       "trans_num                0\n",
       "unix_time                0\n",
       "merch_lat                0\n",
       "merch_long               0\n",
       "is_fraud                 0\n",
       "dtype: int64"
      ]
     },
     "execution_count": 7,
     "metadata": {},
     "output_type": "execute_result"
    }
   ],
   "source": [
    "train.isna().sum()"
   ]
  },
  {
   "cell_type": "code",
   "execution_count": 8,
   "id": "c6f1456e",
   "metadata": {
    "execution": {
     "iopub.execute_input": "2023-11-26T11:29:50.493610Z",
     "iopub.status.busy": "2023-11-26T11:29:50.493261Z",
     "iopub.status.idle": "2023-11-26T11:29:50.500458Z",
     "shell.execute_reply": "2023-11-26T11:29:50.499613Z"
    },
    "papermill": {
     "duration": 0.021355,
     "end_time": "2023-11-26T11:29:50.502288",
     "exception": false,
     "start_time": "2023-11-26T11:29:50.480933",
     "status": "completed"
    },
    "tags": []
   },
   "outputs": [
    {
     "data": {
      "text/plain": [
       "id                         int64\n",
       "trans_date_trans_time     object\n",
       "cc_num                     int64\n",
       "merchant                  object\n",
       "category                  object\n",
       "amt                      float64\n",
       "first                     object\n",
       "last                      object\n",
       "gender                    object\n",
       "street                    object\n",
       "city                      object\n",
       "state                     object\n",
       "zip                        int64\n",
       "lat                      float64\n",
       "long                     float64\n",
       "city_pop                   int64\n",
       "job                       object\n",
       "dob                       object\n",
       "trans_num                 object\n",
       "unix_time                  int64\n",
       "merch_lat                float64\n",
       "merch_long               float64\n",
       "is_fraud                   int64\n",
       "dtype: object"
      ]
     },
     "execution_count": 8,
     "metadata": {},
     "output_type": "execute_result"
    }
   ],
   "source": [
    "train.dtypes"
   ]
  },
  {
   "cell_type": "markdown",
   "id": "4c8837b4",
   "metadata": {
    "papermill": {
     "duration": 0.01026,
     "end_time": "2023-11-26T11:29:50.523160",
     "exception": false,
     "start_time": "2023-11-26T11:29:50.512900",
     "status": "completed"
    },
    "tags": []
   },
   "source": [
    "## 2. Data Visualization and Feature Engineering\n",
    "* ### Plotted the distribution of transaction amounts.\n",
    "* ### Conducted time series analysis on the daily fraud rate.\n"
   ]
  },
  {
   "cell_type": "code",
   "execution_count": 9,
   "id": "56de778c",
   "metadata": {
    "execution": {
     "iopub.execute_input": "2023-11-26T11:29:50.547087Z",
     "iopub.status.busy": "2023-11-26T11:29:50.546404Z",
     "iopub.status.idle": "2023-11-26T11:29:53.625760Z",
     "shell.execute_reply": "2023-11-26T11:29:53.625025Z"
    },
    "papermill": {
     "duration": 3.094129,
     "end_time": "2023-11-26T11:29:53.627692",
     "exception": false,
     "start_time": "2023-11-26T11:29:50.533563",
     "status": "completed"
    },
    "tags": []
   },
   "outputs": [
    {
     "data": {
      "image/png": "[encoded data removed]",
      "text/plain": [
       "<Figure size 400x400 with 1 Axes>"
      ]
     },
     "metadata": {},
     "output_type": "display_data"
    }
   ],
   "source": [
    "#univariate analysis\n",
    "plt.figure(figsize=(4, 4))\n",
    "sns.histplot(train['amt'], bins=30, kde=True)\n",
    "plt.title('Distribution of Transaction Amount')\n",
    "plt.xlabel('Transaction Amount')\n",
    "plt.ylabel('Frequency')\n",
    "plt.show()\n"
   ]
  },
  {
   "cell_type": "code",
   "execution_count": 10,
   "id": "7f08795d",
   "metadata": {
    "execution": {
     "iopub.execute_input": "2023-11-26T11:29:53.708334Z",
     "iopub.status.busy": "2023-11-26T11:29:53.708031Z",
     "iopub.status.idle": "2023-11-26T11:29:54.504441Z",
     "shell.execute_reply": "2023-11-26T11:29:54.503561Z"
    },
    "papermill": {
     "duration": 0.810148,
     "end_time": "2023-11-26T11:29:54.506652",
     "exception": false,
     "start_time": "2023-11-26T11:29:53.696504",
     "status": "completed"
    },
    "tags": []
   },
   "outputs": [
    {
     "data": {
      "image/png": "[encoded data removed]",
      "text/plain": [
       "<Figure size 1200x800 with 1 Axes>"
      ]
     },
     "metadata": {},
     "output_type": "display_data"
    }
   ],
   "source": [
    "#  time series analysis\n",
    "train[\"trans_date_trans_time\"]=pd.to_datetime(train['trans_date_trans_time'])\n",
    "mont=train.set_index('trans_date_trans_time', inplace=False)\n",
    "plt.figure(figsize=(12, 8))\n",
    "mont['is_fraud'].resample('D').mean().plot()\n",
    "plt.title('Daily Fraud Rate')\n",
    "plt.xlabel('Date')\n",
    "plt.ylabel('Fraud Rate')\n",
    "plt.show()"
   ]
  },
  {
   "cell_type": "markdown",
   "id": "6a445020",
   "metadata": {
    "papermill": {
     "duration": 0.012046,
     "end_time": "2023-11-26T11:29:54.531330",
     "exception": false,
     "start_time": "2023-11-26T11:29:54.519284",
     "status": "completed"
    },
    "tags": []
   },
   "source": [
    "## 3. Feature Engineering and Data Transformation\n",
    "* ### Engineered additional features such as credit card frequency, transaction hour, and age.\n"
   ]
  },
  {
   "cell_type": "code",
   "execution_count": 11,
   "id": "8a061bef",
   "metadata": {
    "execution": {
     "iopub.execute_input": "2023-11-26T11:29:54.557671Z",
     "iopub.status.busy": "2023-11-26T11:29:54.557141Z",
     "iopub.status.idle": "2023-11-26T11:29:54.743315Z",
     "shell.execute_reply": "2023-11-26T11:29:54.742322Z"
    },
    "papermill": {
     "duration": 0.201836,
     "end_time": "2023-11-26T11:29:54.745481",
     "exception": false,
     "start_time": "2023-11-26T11:29:54.543645",
     "status": "completed"
    },
    "tags": []
   },
   "outputs": [],
   "source": [
    "train['cc_frequency']=train['cc_num'].map(train['cc_num'].value_counts())\n",
    "train[\"trans_date_trans_time\"]=pd.to_datetime(train['trans_date_trans_time'])\n",
    "train['hour_of_tranx']=train['trans_date_trans_time'].dt.hour\n",
    "train['dob']=pd.to_datetime(train['dob'])\n",
    "train['age']=2023-train['dob'].dt.year"
   ]
  },
  {
   "cell_type": "code",
   "execution_count": 12,
   "id": "2cc46e3c",
   "metadata": {
    "execution": {
     "iopub.execute_input": "2023-11-26T11:29:54.774165Z",
     "iopub.status.busy": "2023-11-26T11:29:54.773447Z",
     "iopub.status.idle": "2023-11-26T11:29:55.216605Z",
     "shell.execute_reply": "2023-11-26T11:29:55.215711Z"
    },
    "papermill": {
     "duration": 0.460001,
     "end_time": "2023-11-26T11:29:55.218406",
     "exception": false,
     "start_time": "2023-11-26T11:29:54.758405",
     "status": "completed"
    },
    "tags": []
   },
   "outputs": [
    {
     "data": {
      "image/png": "[encoded data removed]",
      "text/plain": [
       "<Figure size 1000x600 with 2 Axes>"
      ]
     },
     "metadata": {},
     "output_type": "display_data"
    }
   ],
   "source": [
    "# Hourly transaction counts for fraud vs. non-fraud\n",
    "hourly_counts = train.groupby(['hour_of_tranx', 'is_fraud']).size().reset_index(name='count')\n",
    "hourly_counts = hourly_counts.pivot(index='hour_of_tranx', columns='is_fraud', values='count').fillna(0)\n",
    "\n",
    "plt.figure(figsize=(10, 6))\n",
    "sns.heatmap(hourly_counts, annot=True, cmap='coolwarm')\n",
    "plt.xlabel('Fraudulent Transaction')\n",
    "plt.ylabel('Hour of Transaction')\n",
    "plt.title('Hourly Transaction Counts (Fraud vs Non-Fraud)')\n",
    "plt.show()\n"
   ]
  },
  {
   "cell_type": "code",
   "execution_count": 13,
   "id": "4020539b",
   "metadata": {
    "execution": {
     "iopub.execute_input": "2023-11-26T11:29:55.248995Z",
     "iopub.status.busy": "2023-11-26T11:29:55.248258Z",
     "iopub.status.idle": "2023-11-26T11:29:55.270630Z",
     "shell.execute_reply": "2023-11-26T11:29:55.269021Z"
    },
    "papermill": {
     "duration": 0.040668,
     "end_time": "2023-11-26T11:29:55.272663",
     "exception": false,
     "start_time": "2023-11-26T11:29:55.231995",
     "status": "completed"
    },
    "tags": []
   },
   "outputs": [
    {
     "data": {
      "text/html": [
       "<div>\n",
       "<style scoped>\n",
       "    .dataframe tbody tr th:only-of-type {\n",
       "        vertical-align: middle;\n",
       "    }\n",
       "\n",
       "    .dataframe tbody tr th {\n",
       "        vertical-align: top;\n",
       "    }\n",
       "\n",
       "    .dataframe thead th {\n",
       "        text-align: right;\n",
       "    }\n",
       "</style>\n",
       "<table border=\"1\" class=\"dataframe\">\n",
       "  <thead>\n",
       "    <tr style=\"text-align: right;\">\n",
       "      <th></th>\n",
       "      <th>id</th>\n",
       "      <th>trans_date_trans_time</th>\n",
       "      <th>cc_num</th>\n",
       "      <th>merchant</th>\n",
       "      <th>category</th>\n",
       "      <th>amt</th>\n",
       "      <th>first</th>\n",
       "      <th>last</th>\n",
       "      <th>gender</th>\n",
       "      <th>street</th>\n",
       "      <th>...</th>\n",
       "      <th>job</th>\n",
       "      <th>dob</th>\n",
       "      <th>trans_num</th>\n",
       "      <th>unix_time</th>\n",
       "      <th>merch_lat</th>\n",
       "      <th>merch_long</th>\n",
       "      <th>is_fraud</th>\n",
       "      <th>cc_frequency</th>\n",
       "      <th>hour_of_tranx</th>\n",
       "      <th>age</th>\n",
       "    </tr>\n",
       "  </thead>\n",
       "  <tbody>\n",
       "    <tr>\n",
       "      <th>0</th>\n",
       "      <td>1</td>\n",
       "      <td>2019-12-15 10:35:10</td>\n",
       "      <td>3597926034019603</td>\n",
       "      <td>fraud_Ruecker Group</td>\n",
       "      <td>misc_net</td>\n",
       "      <td>7.19</td>\n",
       "      <td>Derrick</td>\n",
       "      <td>Flores</td>\n",
       "      <td>M</td>\n",
       "      <td>83690 Nicholas Ports Apt. 846</td>\n",
       "      <td>...</td>\n",
       "      <td>Furniture conservator/restorer</td>\n",
       "      <td>1993-03-23</td>\n",
       "      <td>2642fec2e19c9e18e61fe9a88f6bc79a</td>\n",
       "      <td>1355567710</td>\n",
       "      <td>35.189455</td>\n",
       "      <td>-90.121666</td>\n",
       "      <td>0</td>\n",
       "      <td>412</td>\n",
       "      <td>10</td>\n",
       "      <td>30</td>\n",
       "    </tr>\n",
       "    <tr>\n",
       "      <th>1</th>\n",
       "      <td>2</td>\n",
       "      <td>2019-04-10 21:49:53</td>\n",
       "      <td>4873783502705038</td>\n",
       "      <td>fraud_Lynch Ltd</td>\n",
       "      <td>shopping_pos</td>\n",
       "      <td>6.32</td>\n",
       "      <td>Elizabeth</td>\n",
       "      <td>Maxwell</td>\n",
       "      <td>F</td>\n",
       "      <td>194 Goodman Fall Apt. 569</td>\n",
       "      <td>...</td>\n",
       "      <td>Public house manager</td>\n",
       "      <td>1974-03-10</td>\n",
       "      <td>61cec15bdbd3db31b12f886e8e181380</td>\n",
       "      <td>1334094593</td>\n",
       "      <td>49.004316</td>\n",
       "      <td>-122.745016</td>\n",
       "      <td>0</td>\n",
       "      <td>844</td>\n",
       "      <td>21</td>\n",
       "      <td>49</td>\n",
       "    </tr>\n",
       "  </tbody>\n",
       "</table>\n",
       "<p>2 rows × 26 columns</p>\n",
       "</div>"
      ],
      "text/plain": [
       "   id trans_date_trans_time            cc_num             merchant  \\\n",
       "0   1   2019-12-15 10:35:10  3597926034019603  fraud_Ruecker Group   \n",
       "1   2   2019-04-10 21:49:53  4873783502705038      fraud_Lynch Ltd   \n",
       "\n",
       "       category   amt      first     last gender  \\\n",
       "0      misc_net  7.19    Derrick   Flores      M   \n",
       "1  shopping_pos  6.32  Elizabeth  Maxwell      F   \n",
       "\n",
       "                          street  ...                             job  \\\n",
       "0  83690 Nicholas Ports Apt. 846  ...  Furniture conservator/restorer   \n",
       "1      194 Goodman Fall Apt. 569  ...            Public house manager   \n",
       "\n",
       "         dob                         trans_num   unix_time  merch_lat  \\\n",
       "0 1993-03-23  2642fec2e19c9e18e61fe9a88f6bc79a  1355567710  35.189455   \n",
       "1 1974-03-10  61cec15bdbd3db31b12f886e8e181380  1334094593  49.004316   \n",
       "\n",
       "   merch_long is_fraud cc_frequency hour_of_tranx  age  \n",
       "0  -90.121666        0          412            10   30  \n",
       "1 -122.745016        0          844            21   49  \n",
       "\n",
       "[2 rows x 26 columns]"
      ]
     },
     "execution_count": 13,
     "metadata": {},
     "output_type": "execute_result"
    }
   ],
   "source": [
    "train.head(2)"
   ]
  },
  {
   "cell_type": "code",
   "execution_count": 14,
   "id": "a3f8e4bc",
   "metadata": {
    "execution": {
     "iopub.execute_input": "2023-11-26T11:29:55.304381Z",
     "iopub.status.busy": "2023-11-26T11:29:55.303854Z",
     "iopub.status.idle": "2023-11-26T11:31:49.525928Z",
     "shell.execute_reply": "2023-11-26T11:31:49.524765Z"
    },
    "papermill": {
     "duration": 114.241499,
     "end_time": "2023-11-26T11:31:49.528342",
     "exception": false,
     "start_time": "2023-11-26T11:29:55.286843",
     "status": "completed"
    },
    "tags": []
   },
   "outputs": [],
   "source": [
    "from geopy.distance import geodesic\n",
    "train['cardholder_location'] = list(zip(train['lat'], train['long']))\n",
    "train['merchant_location'] = list(zip(train['merch_lat'], train['merch_long']))\n",
    "train['distance_km'] = train.apply(lambda row: geodesic(row['cardholder_location'], row['merchant_location']).kilometers, axis=1)"
   ]
  },
  {
   "cell_type": "code",
   "execution_count": 15,
   "id": "2485c1a7",
   "metadata": {
    "execution": {
     "iopub.execute_input": "2023-11-26T11:31:49.557169Z",
     "iopub.status.busy": "2023-11-26T11:31:49.556580Z",
     "iopub.status.idle": "2023-11-26T11:31:51.743442Z",
     "shell.execute_reply": "2023-11-26T11:31:51.742401Z"
    },
    "papermill": {
     "duration": 2.204022,
     "end_time": "2023-11-26T11:31:51.746103",
     "exception": false,
     "start_time": "2023-11-26T11:31:49.542081",
     "status": "completed"
    },
    "tags": []
   },
   "outputs": [
    {
     "data": {
      "image/png": "[encoded data removed]",
      "text/plain": [
       "<Figure size 800x600 with 1 Axes>"
      ]
     },
     "metadata": {},
     "output_type": "display_data"
    }
   ],
   "source": [
    "plt.figure(figsize=(8, 6))\n",
    "sns.histplot(data=train, x='distance_km', hue='is_fraud', kde=True, bins=30, palette='Set2')\n",
    "plt.xlabel('Distance (km)')\n",
    "plt.ylabel('Frequency')\n",
    "plt.title('Distribution of Distance for Fraudulent vs Non-Fraudulent Transactions')\n",
    "plt.legend(title='Fraudulent', labels=['Non-Fraud', 'Fraud'])\n",
    "plt.show()\n"
   ]
  },
  {
   "cell_type": "code",
   "execution_count": 16,
   "id": "0f0a3783",
   "metadata": {
    "execution": {
     "iopub.execute_input": "2023-11-26T11:31:51.776274Z",
     "iopub.status.busy": "2023-11-26T11:31:51.775898Z",
     "iopub.status.idle": "2023-11-26T11:31:51.799610Z",
     "shell.execute_reply": "2023-11-26T11:31:51.798269Z"
    },
    "papermill": {
     "duration": 0.041301,
     "end_time": "2023-11-26T11:31:51.802009",
     "exception": false,
     "start_time": "2023-11-26T11:31:51.760708",
     "status": "completed"
    },
    "tags": []
   },
   "outputs": [
    {
     "data": {
      "text/html": [
       "<div>\n",
       "<style scoped>\n",
       "    .dataframe tbody tr th:only-of-type {\n",
       "        vertical-align: middle;\n",
       "    }\n",
       "\n",
       "    .dataframe tbody tr th {\n",
       "        vertical-align: top;\n",
       "    }\n",
       "\n",
       "    .dataframe thead th {\n",
       "        text-align: right;\n",
       "    }\n",
       "</style>\n",
       "<table border=\"1\" class=\"dataframe\">\n",
       "  <thead>\n",
       "    <tr style=\"text-align: right;\">\n",
       "      <th></th>\n",
       "      <th>id</th>\n",
       "      <th>trans_date_trans_time</th>\n",
       "      <th>cc_num</th>\n",
       "      <th>merchant</th>\n",
       "      <th>category</th>\n",
       "      <th>amt</th>\n",
       "      <th>first</th>\n",
       "      <th>last</th>\n",
       "      <th>gender</th>\n",
       "      <th>street</th>\n",
       "      <th>...</th>\n",
       "      <th>unix_time</th>\n",
       "      <th>merch_lat</th>\n",
       "      <th>merch_long</th>\n",
       "      <th>is_fraud</th>\n",
       "      <th>cc_frequency</th>\n",
       "      <th>hour_of_tranx</th>\n",
       "      <th>age</th>\n",
       "      <th>cardholder_location</th>\n",
       "      <th>merchant_location</th>\n",
       "      <th>distance_km</th>\n",
       "    </tr>\n",
       "  </thead>\n",
       "  <tbody>\n",
       "    <tr>\n",
       "      <th>0</th>\n",
       "      <td>1</td>\n",
       "      <td>2019-12-15 10:35:10</td>\n",
       "      <td>3597926034019603</td>\n",
       "      <td>fraud_Ruecker Group</td>\n",
       "      <td>misc_net</td>\n",
       "      <td>7.19</td>\n",
       "      <td>Derrick</td>\n",
       "      <td>Flores</td>\n",
       "      <td>M</td>\n",
       "      <td>83690 Nicholas Ports Apt. 846</td>\n",
       "      <td>...</td>\n",
       "      <td>1355567710</td>\n",
       "      <td>35.189455</td>\n",
       "      <td>-90.121666</td>\n",
       "      <td>0</td>\n",
       "      <td>412</td>\n",
       "      <td>10</td>\n",
       "      <td>30</td>\n",
       "      <td>(35.2229, -89.5518)</td>\n",
       "      <td>(35.189455, -90.121666)</td>\n",
       "      <td>52.023619</td>\n",
       "    </tr>\n",
       "    <tr>\n",
       "      <th>1</th>\n",
       "      <td>2</td>\n",
       "      <td>2019-04-10 21:49:53</td>\n",
       "      <td>4873783502705038</td>\n",
       "      <td>fraud_Lynch Ltd</td>\n",
       "      <td>shopping_pos</td>\n",
       "      <td>6.32</td>\n",
       "      <td>Elizabeth</td>\n",
       "      <td>Maxwell</td>\n",
       "      <td>F</td>\n",
       "      <td>194 Goodman Fall Apt. 569</td>\n",
       "      <td>...</td>\n",
       "      <td>1334094593</td>\n",
       "      <td>49.004316</td>\n",
       "      <td>-122.745016</td>\n",
       "      <td>0</td>\n",
       "      <td>844</td>\n",
       "      <td>21</td>\n",
       "      <td>49</td>\n",
       "      <td>(48.4786, -122.3345)</td>\n",
       "      <td>(49.004316, -122.745016)</td>\n",
       "      <td>65.798350</td>\n",
       "    </tr>\n",
       "  </tbody>\n",
       "</table>\n",
       "<p>2 rows × 29 columns</p>\n",
       "</div>"
      ],
      "text/plain": [
       "   id trans_date_trans_time            cc_num             merchant  \\\n",
       "0   1   2019-12-15 10:35:10  3597926034019603  fraud_Ruecker Group   \n",
       "1   2   2019-04-10 21:49:53  4873783502705038      fraud_Lynch Ltd   \n",
       "\n",
       "       category   amt      first     last gender  \\\n",
       "0      misc_net  7.19    Derrick   Flores      M   \n",
       "1  shopping_pos  6.32  Elizabeth  Maxwell      F   \n",
       "\n",
       "                          street  ...   unix_time  merch_lat  merch_long  \\\n",
       "0  83690 Nicholas Ports Apt. 846  ...  1355567710  35.189455  -90.121666   \n",
       "1      194 Goodman Fall Apt. 569  ...  1334094593  49.004316 -122.745016   \n",
       "\n",
       "   is_fraud  cc_frequency  hour_of_tranx age   cardholder_location  \\\n",
       "0         0           412             10  30   (35.2229, -89.5518)   \n",
       "1         0           844             21  49  (48.4786, -122.3345)   \n",
       "\n",
       "          merchant_location  distance_km  \n",
       "0   (35.189455, -90.121666)    52.023619  \n",
       "1  (49.004316, -122.745016)    65.798350  \n",
       "\n",
       "[2 rows x 29 columns]"
      ]
     },
     "execution_count": 16,
     "metadata": {},
     "output_type": "execute_result"
    }
   ],
   "source": [
    "train.head(2)"
   ]
  },
  {
   "cell_type": "code",
   "execution_count": 17,
   "id": "98504ce6",
   "metadata": {
    "execution": {
     "iopub.execute_input": "2023-11-26T11:31:51.832291Z",
     "iopub.status.busy": "2023-11-26T11:31:51.831950Z",
     "iopub.status.idle": "2023-11-26T11:31:51.849242Z",
     "shell.execute_reply": "2023-11-26T11:31:51.848275Z"
    },
    "papermill": {
     "duration": 0.035732,
     "end_time": "2023-11-26T11:31:51.852043",
     "exception": false,
     "start_time": "2023-11-26T11:31:51.816311",
     "status": "completed"
    },
    "tags": []
   },
   "outputs": [],
   "source": [
    "to_drop=['first','last',\"merchant_location\",\"cardholder_location\",'gender','trans_date_trans_time','merchant',\"id\",\"cc_num\",'street','city','state','zip','city_pop',\"long\",\"lat\",\"merch_long\",\"merch_lat\",'job','trans_num','unix_time','dob']\n",
    "train=train.drop(to_drop,axis=1)"
   ]
  },
  {
   "cell_type": "code",
   "execution_count": 18,
   "id": "1620521f",
   "metadata": {
    "execution": {
     "iopub.execute_input": "2023-11-26T11:31:51.882313Z",
     "iopub.status.busy": "2023-11-26T11:31:51.881964Z",
     "iopub.status.idle": "2023-11-26T11:31:51.995307Z",
     "shell.execute_reply": "2023-11-26T11:31:51.994395Z"
    },
    "papermill": {
     "duration": 0.131035,
     "end_time": "2023-11-26T11:31:51.997533",
     "exception": false,
     "start_time": "2023-11-26T11:31:51.866498",
     "status": "completed"
    },
    "tags": []
   },
   "outputs": [],
   "source": [
    "train=pd.get_dummies(data=train,columns=['category'],drop_first=True)"
   ]
  },
  {
   "cell_type": "code",
   "execution_count": 19,
   "id": "029f69c1",
   "metadata": {
    "execution": {
     "iopub.execute_input": "2023-11-26T11:31:52.027335Z",
     "iopub.status.busy": "2023-11-26T11:31:52.026935Z",
     "iopub.status.idle": "2023-11-26T11:31:52.043472Z",
     "shell.execute_reply": "2023-11-26T11:31:52.042886Z"
    },
    "papermill": {
     "duration": 0.033378,
     "end_time": "2023-11-26T11:31:52.045164",
     "exception": false,
     "start_time": "2023-11-26T11:31:52.011786",
     "status": "completed"
    },
    "tags": []
   },
   "outputs": [
    {
     "data": {
      "text/html": [
       "<div>\n",
       "<style scoped>\n",
       "    .dataframe tbody tr th:only-of-type {\n",
       "        vertical-align: middle;\n",
       "    }\n",
       "\n",
       "    .dataframe tbody tr th {\n",
       "        vertical-align: top;\n",
       "    }\n",
       "\n",
       "    .dataframe thead th {\n",
       "        text-align: right;\n",
       "    }\n",
       "</style>\n",
       "<table border=\"1\" class=\"dataframe\">\n",
       "  <thead>\n",
       "    <tr style=\"text-align: right;\">\n",
       "      <th></th>\n",
       "      <th>amt</th>\n",
       "      <th>is_fraud</th>\n",
       "      <th>cc_frequency</th>\n",
       "      <th>hour_of_tranx</th>\n",
       "      <th>age</th>\n",
       "      <th>distance_km</th>\n",
       "      <th>category_food_dining</th>\n",
       "      <th>category_gas_transport</th>\n",
       "      <th>category_grocery_net</th>\n",
       "      <th>category_grocery_pos</th>\n",
       "      <th>category_health_fitness</th>\n",
       "      <th>category_home</th>\n",
       "      <th>category_kids_pets</th>\n",
       "      <th>category_misc_net</th>\n",
       "      <th>category_misc_pos</th>\n",
       "      <th>category_personal_care</th>\n",
       "      <th>category_shopping_net</th>\n",
       "      <th>category_shopping_pos</th>\n",
       "      <th>category_travel</th>\n",
       "    </tr>\n",
       "  </thead>\n",
       "  <tbody>\n",
       "    <tr>\n",
       "      <th>0</th>\n",
       "      <td>7.19</td>\n",
       "      <td>0</td>\n",
       "      <td>412</td>\n",
       "      <td>10</td>\n",
       "      <td>30</td>\n",
       "      <td>52.023619</td>\n",
       "      <td>False</td>\n",
       "      <td>False</td>\n",
       "      <td>False</td>\n",
       "      <td>False</td>\n",
       "      <td>False</td>\n",
       "      <td>False</td>\n",
       "      <td>False</td>\n",
       "      <td>True</td>\n",
       "      <td>False</td>\n",
       "      <td>False</td>\n",
       "      <td>False</td>\n",
       "      <td>False</td>\n",
       "      <td>False</td>\n",
       "    </tr>\n",
       "    <tr>\n",
       "      <th>1</th>\n",
       "      <td>6.32</td>\n",
       "      <td>0</td>\n",
       "      <td>844</td>\n",
       "      <td>21</td>\n",
       "      <td>49</td>\n",
       "      <td>65.798350</td>\n",
       "      <td>False</td>\n",
       "      <td>False</td>\n",
       "      <td>False</td>\n",
       "      <td>False</td>\n",
       "      <td>False</td>\n",
       "      <td>False</td>\n",
       "      <td>False</td>\n",
       "      <td>False</td>\n",
       "      <td>False</td>\n",
       "      <td>False</td>\n",
       "      <td>False</td>\n",
       "      <td>True</td>\n",
       "      <td>False</td>\n",
       "    </tr>\n",
       "    <tr>\n",
       "      <th>2</th>\n",
       "      <td>147.59</td>\n",
       "      <td>0</td>\n",
       "      <td>639</td>\n",
       "      <td>10</td>\n",
       "      <td>53</td>\n",
       "      <td>19.107901</td>\n",
       "      <td>False</td>\n",
       "      <td>False</td>\n",
       "      <td>False</td>\n",
       "      <td>True</td>\n",
       "      <td>False</td>\n",
       "      <td>False</td>\n",
       "      <td>False</td>\n",
       "      <td>False</td>\n",
       "      <td>False</td>\n",
       "      <td>False</td>\n",
       "      <td>False</td>\n",
       "      <td>False</td>\n",
       "      <td>False</td>\n",
       "    </tr>\n",
       "    <tr>\n",
       "      <th>3</th>\n",
       "      <td>32.40</td>\n",
       "      <td>0</td>\n",
       "      <td>621</td>\n",
       "      <td>16</td>\n",
       "      <td>39</td>\n",
       "      <td>75.370883</td>\n",
       "      <td>False</td>\n",
       "      <td>False</td>\n",
       "      <td>False</td>\n",
       "      <td>False</td>\n",
       "      <td>False</td>\n",
       "      <td>False</td>\n",
       "      <td>False</td>\n",
       "      <td>False</td>\n",
       "      <td>False</td>\n",
       "      <td>False</td>\n",
       "      <td>False</td>\n",
       "      <td>False</td>\n",
       "      <td>False</td>\n",
       "    </tr>\n",
       "    <tr>\n",
       "      <th>4</th>\n",
       "      <td>29.79</td>\n",
       "      <td>0</td>\n",
       "      <td>609</td>\n",
       "      <td>21</td>\n",
       "      <td>58</td>\n",
       "      <td>60.158105</td>\n",
       "      <td>False</td>\n",
       "      <td>False</td>\n",
       "      <td>False</td>\n",
       "      <td>False</td>\n",
       "      <td>False</td>\n",
       "      <td>False</td>\n",
       "      <td>False</td>\n",
       "      <td>False</td>\n",
       "      <td>False</td>\n",
       "      <td>True</td>\n",
       "      <td>False</td>\n",
       "      <td>False</td>\n",
       "      <td>False</td>\n",
       "    </tr>\n",
       "  </tbody>\n",
       "</table>\n",
       "</div>"
      ],
      "text/plain": [
       "      amt  is_fraud  cc_frequency  hour_of_tranx  age  distance_km  \\\n",
       "0    7.19         0           412             10   30    52.023619   \n",
       "1    6.32         0           844             21   49    65.798350   \n",
       "2  147.59         0           639             10   53    19.107901   \n",
       "3   32.40         0           621             16   39    75.370883   \n",
       "4   29.79         0           609             21   58    60.158105   \n",
       "\n",
       "   category_food_dining  category_gas_transport  category_grocery_net  \\\n",
       "0                 False                   False                 False   \n",
       "1                 False                   False                 False   \n",
       "2                 False                   False                 False   \n",
       "3                 False                   False                 False   \n",
       "4                 False                   False                 False   \n",
       "\n",
       "   category_grocery_pos  category_health_fitness  category_home  \\\n",
       "0                 False                    False          False   \n",
       "1                 False                    False          False   \n",
       "2                  True                    False          False   \n",
       "3                 False                    False          False   \n",
       "4                 False                    False          False   \n",
       "\n",
       "   category_kids_pets  category_misc_net  category_misc_pos  \\\n",
       "0               False               True              False   \n",
       "1               False              False              False   \n",
       "2               False              False              False   \n",
       "3               False              False              False   \n",
       "4               False              False              False   \n",
       "\n",
       "   category_personal_care  category_shopping_net  category_shopping_pos  \\\n",
       "0                   False                  False                  False   \n",
       "1                   False                  False                   True   \n",
       "2                   False                  False                  False   \n",
       "3                   False                  False                  False   \n",
       "4                    True                  False                  False   \n",
       "\n",
       "   category_travel  \n",
       "0            False  \n",
       "1            False  \n",
       "2            False  \n",
       "3            False  \n",
       "4            False  "
      ]
     },
     "execution_count": 19,
     "metadata": {},
     "output_type": "execute_result"
    }
   ],
   "source": [
    "train.head()"
   ]
  },
  {
   "cell_type": "code",
   "execution_count": 20,
   "id": "7c83bdd1",
   "metadata": {
    "execution": {
     "iopub.execute_input": "2023-11-26T11:31:52.075634Z",
     "iopub.status.busy": "2023-11-26T11:31:52.075235Z",
     "iopub.status.idle": "2023-11-26T11:31:52.091398Z",
     "shell.execute_reply": "2023-11-26T11:31:52.090153Z"
    },
    "papermill": {
     "duration": 0.034221,
     "end_time": "2023-11-26T11:31:52.093795",
     "exception": false,
     "start_time": "2023-11-26T11:31:52.059574",
     "status": "completed"
    },
    "tags": []
   },
   "outputs": [],
   "source": [
    "x=train.drop(['is_fraud'],axis=1)\n",
    "y=train.is_fraud"
   ]
  },
  {
   "cell_type": "markdown",
   "id": "7098a2ec",
   "metadata": {
    "papermill": {
     "duration": 0.01517,
     "end_time": "2023-11-26T11:31:52.123630",
     "exception": false,
     "start_time": "2023-11-26T11:31:52.108460",
     "status": "completed"
    },
    "tags": []
   },
   "source": [
    "* ### Splitting the dataset"
   ]
  },
  {
   "cell_type": "code",
   "execution_count": 21,
   "id": "b32063e4",
   "metadata": {
    "execution": {
     "iopub.execute_input": "2023-11-26T11:31:52.154302Z",
     "iopub.status.busy": "2023-11-26T11:31:52.153956Z",
     "iopub.status.idle": "2023-11-26T11:31:52.240218Z",
     "shell.execute_reply": "2023-11-26T11:31:52.239305Z"
    },
    "papermill": {
     "duration": 0.104266,
     "end_time": "2023-11-26T11:31:52.242441",
     "exception": false,
     "start_time": "2023-11-26T11:31:52.138175",
     "status": "completed"
    },
    "tags": []
   },
   "outputs": [],
   "source": [
    "x_train,x_test,y_train,y_test=train_test_split(x,y,test_size=0.5,random_state=42)\n"
   ]
  },
  {
   "cell_type": "markdown",
   "id": "fdb33fc9",
   "metadata": {
    "papermill": {
     "duration": 0.014866,
     "end_time": "2023-11-26T11:31:52.271764",
     "exception": false,
     "start_time": "2023-11-26T11:31:52.256898",
     "status": "completed"
    },
    "tags": []
   },
   "source": [
    "## 4. Model Training and Evaluation \n",
    "* ### Created a voting classifier using Random Forest and XGBoost models.\n",
    "* ### Evaluated the model using accuracy, classification report, and confusion matrix."
   ]
  },
  {
   "cell_type": "code",
   "execution_count": 22,
   "id": "592fb3f2",
   "metadata": {
    "execution": {
     "iopub.execute_input": "2023-11-26T11:31:52.304096Z",
     "iopub.status.busy": "2023-11-26T11:31:52.303740Z",
     "iopub.status.idle": "2023-11-26T11:31:52.309626Z",
     "shell.execute_reply": "2023-11-26T11:31:52.308287Z"
    },
    "papermill": {
     "duration": 0.025023,
     "end_time": "2023-11-26T11:31:52.312010",
     "exception": false,
     "start_time": "2023-11-26T11:31:52.286987",
     "status": "completed"
    },
    "tags": []
   },
   "outputs": [],
   "source": [
    "def evaluate_model(model, x_test, y_test):\n",
    "    prediction=model.predict(x_test)\n",
    "    acc_score=accuracy_score(y_test,prediction)\n",
    "    print('we have {}% accuracy'.format(acc_score*100))\n",
    "    plt.figure(figsize=(4,4))\n",
    "    print(classification_report(y_test,prediction))\n",
    "    plt.title('Confusion Matrix of the model')\n",
    "    sns.heatmap(confusion_matrix(y_test,prediction),annot=True,fmt='.5g');\n",
    "    "
   ]
  },
  {
   "cell_type": "code",
   "execution_count": 23,
   "id": "dccd1459",
   "metadata": {
    "execution": {
     "iopub.execute_input": "2023-11-26T11:31:52.342597Z",
     "iopub.status.busy": "2023-11-26T11:31:52.342241Z",
     "iopub.status.idle": "2023-11-26T11:31:52.347061Z",
     "shell.execute_reply": "2023-11-26T11:31:52.346005Z"
    },
    "papermill": {
     "duration": 0.022872,
     "end_time": "2023-11-26T11:31:52.349451",
     "exception": false,
     "start_time": "2023-11-26T11:31:52.326579",
     "status": "completed"
    },
    "tags": []
   },
   "outputs": [],
   "source": [
    "from sklearn.ensemble import RandomForestClassifier, VotingClassifier\n",
    "from sklearn.model_selection import train_test_split\n",
    "from sklearn.metrics import accuracy_score, classification_report\n",
    "import xgboost as xgb"
   ]
  },
  {
   "cell_type": "code",
   "execution_count": 24,
   "id": "443712ff",
   "metadata": {
    "execution": {
     "iopub.execute_input": "2023-11-26T11:31:52.379753Z",
     "iopub.status.busy": "2023-11-26T11:31:52.379372Z",
     "iopub.status.idle": "2023-11-26T11:31:54.221379Z",
     "shell.execute_reply": "2023-11-26T11:31:54.220259Z"
    },
    "papermill": {
     "duration": 1.859932,
     "end_time": "2023-11-26T11:31:54.223800",
     "exception": false,
     "start_time": "2023-11-26T11:31:52.363868",
     "status": "completed"
    },
    "tags": []
   },
   "outputs": [],
   "source": [
    "from imblearn.over_sampling import ADASYN\n",
    "adasyn = ADASYN(random_state=42)\n",
    "X_resampled, y_resampled = adasyn.fit_resample(x_train, y_train)"
   ]
  },
  {
   "cell_type": "code",
   "execution_count": 25,
   "id": "3cd970f4",
   "metadata": {
    "execution": {
     "iopub.execute_input": "2023-11-26T11:31:54.255423Z",
     "iopub.status.busy": "2023-11-26T11:31:54.254889Z",
     "iopub.status.idle": "2023-11-26T11:33:36.603642Z",
     "shell.execute_reply": "2023-11-26T11:33:36.603042Z"
    },
    "papermill": {
     "duration": 102.367122,
     "end_time": "2023-11-26T11:33:36.605459",
     "exception": false,
     "start_time": "2023-11-26T11:31:54.238337",
     "status": "completed"
    },
    "tags": []
   },
   "outputs": [
    {
     "name": "stdout",
     "output_type": "stream",
     "text": [
      "we have 99.40211096117162% accuracy\n",
      "              precision    recall  f1-score   support\n",
      "\n",
      "           0       1.00      1.00      1.00    257757\n",
      "           1       0.74      0.91      0.82      3830\n",
      "\n",
      "    accuracy                           0.99    261587\n",
      "   macro avg       0.87      0.95      0.91    261587\n",
      "weighted avg       0.99      0.99      0.99    261587\n",
      "\n"
     ]
    },
    {
     "data": {
      "image/png": "[encoded data removed]",
      "text/plain": [
       "<Figure size 400x400 with 2 Axes>"
      ]
     },
     "metadata": {},
     "output_type": "display_data"
    }
   ],
   "source": [
    "from sklearn.ensemble import RandomForestClassifier, VotingClassifier\n",
    "from sklearn.model_selection import train_test_split\n",
    "from sklearn.metrics import accuracy_score, classification_report\n",
    "import xgboost as xgb\n",
    "\n",
    "rf_model = RandomForestClassifier(n_estimators=100, random_state=42)\n",
    "xgb_model = xgb.XGBClassifier(n_estimators=100, random_state=42,max_depth=6)\n",
    "\n",
    "voting_classifier = VotingClassifier(estimators=[\n",
    "    ('Random Forest', rf_model), \n",
    "    ('XGBoost', xgb_model)\n",
    "], voting='soft') \n",
    "\n",
    "\n",
    "voting_classifier.fit(X_resampled, y_resampled)\n",
    "y_pred = voting_classifier.predict(x_test)\n",
    "evaluate_model(voting_classifier,x_test,y_test)"
   ]
  },
  {
   "cell_type": "code",
   "execution_count": 26,
   "id": "ee812c5b",
   "metadata": {
    "execution": {
     "iopub.execute_input": "2023-11-26T11:33:36.637984Z",
     "iopub.status.busy": "2023-11-26T11:33:36.637605Z",
     "iopub.status.idle": "2023-11-26T11:35:13.087539Z",
     "shell.execute_reply": "2023-11-26T11:35:13.086422Z"
    },
    "papermill": {
     "duration": 96.469284,
     "end_time": "2023-11-26T11:35:13.089582",
     "exception": false,
     "start_time": "2023-11-26T11:33:36.620298",
     "status": "completed"
    },
    "tags": []
   },
   "outputs": [
    {
     "name": "stdout",
     "output_type": "stream",
     "text": [
      "we have 99.53896791507223% accuracy\n",
      "              precision    recall  f1-score   support\n",
      "\n",
      "           0       1.00      1.00      1.00    257757\n",
      "           1       0.82      0.88      0.85      3830\n",
      "\n",
      "    accuracy                           1.00    261587\n",
      "   macro avg       0.91      0.94      0.92    261587\n",
      "weighted avg       1.00      1.00      1.00    261587\n",
      "\n"
     ]
    },
    {
     "data": {
      "image/png": "[encoded data removed]",
      "text/plain": [
       "<Figure size 400x400 with 2 Axes>"
      ]
     },
     "metadata": {},
     "output_type": "display_data"
    }
   ],
   "source": [
    "from sklearn.ensemble import RandomForestClassifier\n",
    "model=RandomForestClassifier(random_state=42)\n",
    "model.fit(X_resampled,y_resampled)\n",
    "y_pred=model.predict(x_test)\n",
    "evaluate_model(model,x_test,y_test)"
   ]
  },
  {
   "cell_type": "code",
   "execution_count": 27,
   "id": "d8b970c2",
   "metadata": {
    "execution": {
     "iopub.execute_input": "2023-11-26T11:35:13.121386Z",
     "iopub.status.busy": "2023-11-26T11:35:13.121056Z",
     "iopub.status.idle": "2023-11-26T11:35:19.987824Z",
     "shell.execute_reply": "2023-11-26T11:35:19.986377Z"
    },
    "papermill": {
     "duration": 6.88516,
     "end_time": "2023-11-26T11:35:19.989994",
     "exception": false,
     "start_time": "2023-11-26T11:35:13.104834",
     "status": "completed"
    },
    "tags": []
   },
   "outputs": [
    {
     "name": "stdout",
     "output_type": "stream",
     "text": [
      "we have 98.57867554580312% accuracy\n",
      "              precision    recall  f1-score   support\n",
      "\n",
      "           0       1.00      0.99      0.99    257757\n",
      "           1       0.51      0.95      0.66      3830\n",
      "\n",
      "    accuracy                           0.99    261587\n",
      "   macro avg       0.75      0.97      0.83    261587\n",
      "weighted avg       0.99      0.99      0.99    261587\n",
      "\n"
     ]
    },
    {
     "data": {
      "image/png": "[encoded data removed]",
      "text/plain": [
       "<Figure size 400x400 with 2 Axes>"
      ]
     },
     "metadata": {},
     "output_type": "display_data"
    }
   ],
   "source": [
    "xgb=XGBClassifier(n_estimators=200,max_depth=3,random_state=42)\n",
    "xgb.fit(X_resampled,y_resampled)\n",
    "y_pred=xgb.predict(x_test)\n",
    "evaluate_model(xgb,x_test,y_test)\n"
   ]
  },
  {
   "cell_type": "code",
   "execution_count": 28,
   "id": "30c146c6",
   "metadata": {
    "execution": {
     "iopub.execute_input": "2023-11-26T11:35:20.023542Z",
     "iopub.status.busy": "2023-11-26T11:35:20.023004Z",
     "iopub.status.idle": "2023-11-26T11:35:20.028052Z",
     "shell.execute_reply": "2023-11-26T11:35:20.027383Z"
    },
    "papermill": {
     "duration": 0.023964,
     "end_time": "2023-11-26T11:35:20.029605",
     "exception": false,
     "start_time": "2023-11-26T11:35:20.005641",
     "status": "completed"
    },
    "tags": []
   },
   "outputs": [
    {
     "data": {
      "text/plain": [
       "array([0, 0, 0, ..., 0, 1, 0])"
      ]
     },
     "execution_count": 28,
     "metadata": {},
     "output_type": "execute_result"
    }
   ],
   "source": [
    "y_pred"
   ]
  },
  {
   "cell_type": "code",
   "execution_count": 29,
   "id": "ef8dc4c5",
   "metadata": {
    "execution": {
     "iopub.execute_input": "2023-11-26T11:35:20.064098Z",
     "iopub.status.busy": "2023-11-26T11:35:20.063518Z",
     "iopub.status.idle": "2023-11-26T11:35:20.104010Z",
     "shell.execute_reply": "2023-11-26T11:35:20.103058Z"
    },
    "papermill": {
     "duration": 0.06035,
     "end_time": "2023-11-26T11:35:20.105681",
     "exception": false,
     "start_time": "2023-11-26T11:35:20.045331",
     "status": "completed"
    },
    "tags": []
   },
   "outputs": [
    {
     "data": {
      "text/plain": [
       "0.9688666013492113"
      ]
     },
     "execution_count": 29,
     "metadata": {},
     "output_type": "execute_result"
    }
   ],
   "source": [
    "roc_auc_score(y_test,y_pred)"
   ]
  },
  {
   "cell_type": "markdown",
   "id": "3b4e7111",
   "metadata": {
    "papermill": {
     "duration": 0.015459,
     "end_time": "2023-11-26T11:35:20.136787",
     "exception": false,
     "start_time": "2023-11-26T11:35:20.121328",
     "status": "completed"
    },
    "tags": []
   },
   "source": [
    "## 5. Cross-Validation and Additional Metrics\n",
    "* ### Conducted cross-validation and printed ROC AUC scores."
   ]
  },
  {
   "cell_type": "code",
   "execution_count": 30,
   "id": "a4fb9495",
   "metadata": {
    "execution": {
     "iopub.execute_input": "2023-11-26T11:35:20.171983Z",
     "iopub.status.busy": "2023-11-26T11:35:20.171377Z",
     "iopub.status.idle": "2023-11-26T11:41:10.004813Z",
     "shell.execute_reply": "2023-11-26T11:41:10.004000Z"
    },
    "papermill": {
     "duration": 349.867641,
     "end_time": "2023-11-26T11:41:10.021311",
     "exception": false,
     "start_time": "2023-11-26T11:35:20.153670",
     "status": "completed"
    },
    "tags": []
   },
   "outputs": [
    {
     "name": "stdout",
     "output_type": "stream",
     "text": [
      "Cross-Validation Scores: [0.99918827 0.99948294 0.99965835 0.99966927 0.99976767]\n",
      "Mean CV Accuracy: 0.9995532997990898\n",
      "Standard Deviation of CV Accuracy: 0.00020427502346451832\n"
     ]
    }
   ],
   "source": [
    "from sklearn.model_selection import cross_val_score\n",
    "num_folds=5\n",
    "cv_scores = cross_val_score(model, X_resampled, y_resampled, cv=num_folds, scoring='roc_auc')\n",
    "\n",
    "# Print cross-validation scores\n",
    "print(f\"Cross-Validation Scores: {cv_scores}\")\n",
    "print(f\"Mean CV Accuracy: {np.mean(cv_scores)}\")\n",
    "print(f\"Standard Deviation of CV Accuracy: {np.std(cv_scores)}\")"
   ]
  },
  {
   "cell_type": "code",
   "execution_count": 31,
   "id": "958ab7f7",
   "metadata": {
    "execution": {
     "iopub.execute_input": "2023-11-26T11:41:10.054669Z",
     "iopub.status.busy": "2023-11-26T11:41:10.053665Z",
     "iopub.status.idle": "2023-11-26T11:41:10.514917Z",
     "shell.execute_reply": "2023-11-26T11:41:10.513896Z"
    },
    "papermill": {
     "duration": 0.479883,
     "end_time": "2023-11-26T11:41:10.516751",
     "exception": false,
     "start_time": "2023-11-26T11:41:10.036868",
     "status": "completed"
    },
    "tags": []
   },
   "outputs": [
    {
     "name": "stdout",
     "output_type": "stream",
     "text": [
      "              precision    recall  f1-score   support\n",
      "\n",
      "           0       1.00      0.99      0.99    257757\n",
      "           1       0.51      0.95      0.66      3830\n",
      "\n",
      "    accuracy                           0.99    261587\n",
      "   macro avg       0.75      0.97      0.83    261587\n",
      "weighted avg       0.99      0.99      0.99    261587\n",
      "\n"
     ]
    },
    {
     "data": {
      "image/png": "[encoded data removed]",
      "text/plain": [
       "<Figure size 400x400 with 2 Axes>"
      ]
     },
     "metadata": {},
     "output_type": "display_data"
    }
   ],
   "source": [
    "plt.figure(figsize=(4,4))\n",
    "print(classification_report(y_test,y_pred))\n",
    "plt.title('Confusion Matrix of the model')\n",
    "sns.heatmap(confusion_matrix(y_test,y_pred),annot=True,fmt='.5g');\n"
   ]
  },
  {
   "cell_type": "markdown",
   "id": "f7aadf14",
   "metadata": {
    "papermill": {
     "duration": 0.016185,
     "end_time": "2023-11-26T11:41:10.549506",
     "exception": false,
     "start_time": "2023-11-26T11:41:10.533321",
     "status": "completed"
    },
    "tags": []
   },
   "source": [
    "## 6. Preprocessing the Test Data and Making Predictions\n",
    "* ### Loaded the test dataset.\n",
    "* ### Engineered features for the test data.\n",
    "* ### Made predictions on the test data using the trained XGBoost model."
   ]
  },
  {
   "cell_type": "code",
   "execution_count": 32,
   "id": "684cfffa",
   "metadata": {
    "execution": {
     "iopub.execute_input": "2023-11-26T11:41:10.584348Z",
     "iopub.status.busy": "2023-11-26T11:41:10.583476Z",
     "iopub.status.idle": "2023-11-26T11:41:14.738214Z",
     "shell.execute_reply": "2023-11-26T11:41:14.736966Z"
    },
    "papermill": {
     "duration": 4.174571,
     "end_time": "2023-11-26T11:41:14.740371",
     "exception": false,
     "start_time": "2023-11-26T11:41:10.565800",
     "status": "completed"
    },
    "tags": []
   },
   "outputs": [],
   "source": [
    "test=pd.read_csv(\"/kaggle/input/anyas-gojo-revival-bondman/testData.csv\")"
   ]
  },
  {
   "cell_type": "code",
   "execution_count": 33,
   "id": "987df283",
   "metadata": {
    "execution": {
     "iopub.execute_input": "2023-11-26T11:41:14.775757Z",
     "iopub.status.busy": "2023-11-26T11:41:14.775365Z",
     "iopub.status.idle": "2023-11-26T11:41:14.799076Z",
     "shell.execute_reply": "2023-11-26T11:41:14.797677Z"
    },
    "papermill": {
     "duration": 0.04385,
     "end_time": "2023-11-26T11:41:14.800978",
     "exception": false,
     "start_time": "2023-11-26T11:41:14.757128",
     "status": "completed"
    },
    "tags": []
   },
   "outputs": [
    {
     "data": {
      "text/html": [
       "<div>\n",
       "<style scoped>\n",
       "    .dataframe tbody tr th:only-of-type {\n",
       "        vertical-align: middle;\n",
       "    }\n",
       "\n",
       "    .dataframe tbody tr th {\n",
       "        vertical-align: top;\n",
       "    }\n",
       "\n",
       "    .dataframe thead th {\n",
       "        text-align: right;\n",
       "    }\n",
       "</style>\n",
       "<table border=\"1\" class=\"dataframe\">\n",
       "  <thead>\n",
       "    <tr style=\"text-align: right;\">\n",
       "      <th></th>\n",
       "      <th>id</th>\n",
       "      <th>trans_date_trans_time</th>\n",
       "      <th>cc_num</th>\n",
       "      <th>merchant</th>\n",
       "      <th>category</th>\n",
       "      <th>amt</th>\n",
       "      <th>first</th>\n",
       "      <th>last</th>\n",
       "      <th>gender</th>\n",
       "      <th>street</th>\n",
       "      <th>...</th>\n",
       "      <th>zip</th>\n",
       "      <th>lat</th>\n",
       "      <th>long</th>\n",
       "      <th>city_pop</th>\n",
       "      <th>job</th>\n",
       "      <th>dob</th>\n",
       "      <th>trans_num</th>\n",
       "      <th>unix_time</th>\n",
       "      <th>merch_lat</th>\n",
       "      <th>merch_long</th>\n",
       "    </tr>\n",
       "  </thead>\n",
       "  <tbody>\n",
       "    <tr>\n",
       "      <th>0</th>\n",
       "      <td>1</td>\n",
       "      <td>2020-06-21 12:14:25</td>\n",
       "      <td>2291163933867244</td>\n",
       "      <td>fraud_Kirlin and Sons</td>\n",
       "      <td>personal_care</td>\n",
       "      <td>2.86</td>\n",
       "      <td>Jeff</td>\n",
       "      <td>Elliott</td>\n",
       "      <td>M</td>\n",
       "      <td>351 Darlene Green</td>\n",
       "      <td>...</td>\n",
       "      <td>29209</td>\n",
       "      <td>33.9659</td>\n",
       "      <td>-80.9355</td>\n",
       "      <td>333497</td>\n",
       "      <td>Mechanical engineer</td>\n",
       "      <td>1968-03-19</td>\n",
       "      <td>2da90c7d74bd46a0caf3777415b3ebd3</td>\n",
       "      <td>1371816865</td>\n",
       "      <td>33.986391</td>\n",
       "      <td>-81.200714</td>\n",
       "    </tr>\n",
       "    <tr>\n",
       "      <th>1</th>\n",
       "      <td>2</td>\n",
       "      <td>2020-06-21 12:14:33</td>\n",
       "      <td>3573030041201292</td>\n",
       "      <td>fraud_Sporer-Keebler</td>\n",
       "      <td>personal_care</td>\n",
       "      <td>29.84</td>\n",
       "      <td>Joanne</td>\n",
       "      <td>Williams</td>\n",
       "      <td>F</td>\n",
       "      <td>3638 Marsh Union</td>\n",
       "      <td>...</td>\n",
       "      <td>84002</td>\n",
       "      <td>40.3207</td>\n",
       "      <td>-110.4360</td>\n",
       "      <td>302</td>\n",
       "      <td>Sales professional, IT</td>\n",
       "      <td>1990-01-17</td>\n",
       "      <td>324cc204407e99f51b0d6ca0055005e7</td>\n",
       "      <td>1371816873</td>\n",
       "      <td>39.450498</td>\n",
       "      <td>-109.960431</td>\n",
       "    </tr>\n",
       "    <tr>\n",
       "      <th>2</th>\n",
       "      <td>3</td>\n",
       "      <td>2020-06-21 12:14:53</td>\n",
       "      <td>3598215285024754</td>\n",
       "      <td>fraud_Swaniawski, Nitzsche and Welch</td>\n",
       "      <td>health_fitness</td>\n",
       "      <td>41.28</td>\n",
       "      <td>Ashley</td>\n",
       "      <td>Lopez</td>\n",
       "      <td>F</td>\n",
       "      <td>9333 Valentine Point</td>\n",
       "      <td>...</td>\n",
       "      <td>11710</td>\n",
       "      <td>40.6729</td>\n",
       "      <td>-73.5365</td>\n",
       "      <td>34496</td>\n",
       "      <td>Librarian, public</td>\n",
       "      <td>1970-10-21</td>\n",
       "      <td>c81755dbbbea9d5c77f094348a7579be</td>\n",
       "      <td>1371816893</td>\n",
       "      <td>40.495810</td>\n",
       "      <td>-74.196111</td>\n",
       "    </tr>\n",
       "    <tr>\n",
       "      <th>3</th>\n",
       "      <td>4</td>\n",
       "      <td>2020-06-21 12:15:15</td>\n",
       "      <td>3591919803438423</td>\n",
       "      <td>fraud_Haley Group</td>\n",
       "      <td>misc_pos</td>\n",
       "      <td>60.05</td>\n",
       "      <td>Brian</td>\n",
       "      <td>Williams</td>\n",
       "      <td>M</td>\n",
       "      <td>32941 Krystal Mill Apt. 552</td>\n",
       "      <td>...</td>\n",
       "      <td>32780</td>\n",
       "      <td>28.5697</td>\n",
       "      <td>-80.8191</td>\n",
       "      <td>54767</td>\n",
       "      <td>Set designer</td>\n",
       "      <td>1987-07-25</td>\n",
       "      <td>2159175b9efe66dc301f149d3d5abf8c</td>\n",
       "      <td>1371816915</td>\n",
       "      <td>28.812398</td>\n",
       "      <td>-80.883061</td>\n",
       "    </tr>\n",
       "    <tr>\n",
       "      <th>4</th>\n",
       "      <td>5</td>\n",
       "      <td>2020-06-21 12:15:17</td>\n",
       "      <td>3526826139003047</td>\n",
       "      <td>fraud_Johnston-Casper</td>\n",
       "      <td>travel</td>\n",
       "      <td>3.19</td>\n",
       "      <td>Nathan</td>\n",
       "      <td>Massey</td>\n",
       "      <td>M</td>\n",
       "      <td>5783 Evan Roads Apt. 465</td>\n",
       "      <td>...</td>\n",
       "      <td>49632</td>\n",
       "      <td>44.2529</td>\n",
       "      <td>-85.0170</td>\n",
       "      <td>1126</td>\n",
       "      <td>Furniture designer</td>\n",
       "      <td>1955-07-06</td>\n",
       "      <td>57ff021bd3f328f8738bb535c302a31b</td>\n",
       "      <td>1371816917</td>\n",
       "      <td>44.959148</td>\n",
       "      <td>-85.884734</td>\n",
       "    </tr>\n",
       "  </tbody>\n",
       "</table>\n",
       "<p>5 rows × 22 columns</p>\n",
       "</div>"
      ],
      "text/plain": [
       "   id trans_date_trans_time            cc_num  \\\n",
       "0   1   2020-06-21 12:14:25  2291163933867244   \n",
       "1   2   2020-06-21 12:14:33  3573030041201292   \n",
       "2   3   2020-06-21 12:14:53  3598215285024754   \n",
       "3   4   2020-06-21 12:15:15  3591919803438423   \n",
       "4   5   2020-06-21 12:15:17  3526826139003047   \n",
       "\n",
       "                               merchant        category    amt   first  \\\n",
       "0                 fraud_Kirlin and Sons   personal_care   2.86    Jeff   \n",
       "1                  fraud_Sporer-Keebler   personal_care  29.84  Joanne   \n",
       "2  fraud_Swaniawski, Nitzsche and Welch  health_fitness  41.28  Ashley   \n",
       "3                     fraud_Haley Group        misc_pos  60.05   Brian   \n",
       "4                 fraud_Johnston-Casper          travel   3.19  Nathan   \n",
       "\n",
       "       last gender                       street  ...    zip      lat  \\\n",
       "0   Elliott      M            351 Darlene Green  ...  29209  33.9659   \n",
       "1  Williams      F             3638 Marsh Union  ...  84002  40.3207   \n",
       "2     Lopez      F         9333 Valentine Point  ...  11710  40.6729   \n",
       "3  Williams      M  32941 Krystal Mill Apt. 552  ...  32780  28.5697   \n",
       "4    Massey      M     5783 Evan Roads Apt. 465  ...  49632  44.2529   \n",
       "\n",
       "       long  city_pop                     job         dob  \\\n",
       "0  -80.9355    333497     Mechanical engineer  1968-03-19   \n",
       "1 -110.4360       302  Sales professional, IT  1990-01-17   \n",
       "2  -73.5365     34496       Librarian, public  1970-10-21   \n",
       "3  -80.8191     54767            Set designer  1987-07-25   \n",
       "4  -85.0170      1126      Furniture designer  1955-07-06   \n",
       "\n",
       "                          trans_num   unix_time  merch_lat  merch_long  \n",
       "0  2da90c7d74bd46a0caf3777415b3ebd3  1371816865  33.986391  -81.200714  \n",
       "1  324cc204407e99f51b0d6ca0055005e7  1371816873  39.450498 -109.960431  \n",
       "2  c81755dbbbea9d5c77f094348a7579be  1371816893  40.495810  -74.196111  \n",
       "3  2159175b9efe66dc301f149d3d5abf8c  1371816915  28.812398  -80.883061  \n",
       "4  57ff021bd3f328f8738bb535c302a31b  1371816917  44.959148  -85.884734  \n",
       "\n",
       "[5 rows x 22 columns]"
      ]
     },
     "execution_count": 33,
     "metadata": {},
     "output_type": "execute_result"
    }
   ],
   "source": [
    "test.head()"
   ]
  },
  {
   "cell_type": "code",
   "execution_count": 34,
   "id": "485aaf0e",
   "metadata": {
    "execution": {
     "iopub.execute_input": "2023-11-26T11:41:14.835936Z",
     "iopub.status.busy": "2023-11-26T11:41:14.835547Z",
     "iopub.status.idle": "2023-11-26T11:41:15.140745Z",
     "shell.execute_reply": "2023-11-26T11:41:15.139150Z"
    },
    "papermill": {
     "duration": 0.326026,
     "end_time": "2023-11-26T11:41:15.143600",
     "exception": false,
     "start_time": "2023-11-26T11:41:14.817574",
     "status": "completed"
    },
    "tags": []
   },
   "outputs": [],
   "source": [
    "test['cc_frequency']=test['cc_num'].map(test['cc_num'].value_counts())\n",
    "test[\"trans_date_trans_time\"]=pd.to_datetime(test['trans_date_trans_time'])\n",
    "test['hour_of_tranx']=test['trans_date_trans_time'].dt.hour\n",
    "test['dob']=pd.to_datetime(test['dob'])\n",
    "test['age']=2023-test['dob'].dt.year"
   ]
  },
  {
   "cell_type": "code",
   "execution_count": 35,
   "id": "f47ad489",
   "metadata": {
    "execution": {
     "iopub.execute_input": "2023-11-26T11:41:15.180009Z",
     "iopub.status.busy": "2023-11-26T11:41:15.179410Z",
     "iopub.status.idle": "2023-11-26T11:43:16.299575Z",
     "shell.execute_reply": "2023-11-26T11:43:16.298383Z"
    },
    "papermill": {
     "duration": 121.141572,
     "end_time": "2023-11-26T11:43:16.302148",
     "exception": false,
     "start_time": "2023-11-26T11:41:15.160576",
     "status": "completed"
    },
    "tags": []
   },
   "outputs": [],
   "source": [
    "from geopy.distance import geodesic\n",
    "test['cardholder_location'] = list(zip(test['lat'], test['long']))\n",
    "test['merchant_location'] = list(zip(test['merch_lat'], test['merch_long']))\n",
    "test['distance_km'] = test.apply(lambda row: geodesic(row['cardholder_location'], row['merchant_location']).kilometers, axis=1)"
   ]
  },
  {
   "cell_type": "code",
   "execution_count": 36,
   "id": "93eef188",
   "metadata": {
    "execution": {
     "iopub.execute_input": "2023-11-26T11:43:16.339159Z",
     "iopub.status.busy": "2023-11-26T11:43:16.338226Z",
     "iopub.status.idle": "2023-11-26T11:43:16.390522Z",
     "shell.execute_reply": "2023-11-26T11:43:16.389311Z"
    },
    "papermill": {
     "duration": 0.073873,
     "end_time": "2023-11-26T11:43:16.392856",
     "exception": false,
     "start_time": "2023-11-26T11:43:16.318983",
     "status": "completed"
    },
    "tags": []
   },
   "outputs": [],
   "source": [
    "to_drop=['first','last',\"merchant_location\",\"cardholder_location\",'gender','trans_date_trans_time','merchant',\"id\",\"cc_num\",'street','city','state','zip','city_pop',\"long\",\"lat\",\"merch_long\",\"merch_lat\",'job','trans_num','unix_time','dob']\n",
    "test=test.drop(to_drop,axis=1)"
   ]
  },
  {
   "cell_type": "code",
   "execution_count": 37,
   "id": "6825d25e",
   "metadata": {
    "execution": {
     "iopub.execute_input": "2023-11-26T11:43:16.428461Z",
     "iopub.status.busy": "2023-11-26T11:43:16.428127Z",
     "iopub.status.idle": "2023-11-26T11:43:16.537582Z",
     "shell.execute_reply": "2023-11-26T11:43:16.536243Z"
    },
    "papermill": {
     "duration": 0.130761,
     "end_time": "2023-11-26T11:43:16.539958",
     "exception": false,
     "start_time": "2023-11-26T11:43:16.409197",
     "status": "completed"
    },
    "tags": []
   },
   "outputs": [],
   "source": [
    "test=pd.get_dummies(data=test,columns=['category'],drop_first=True)"
   ]
  },
  {
   "cell_type": "code",
   "execution_count": 38,
   "id": "ece5db69",
   "metadata": {
    "execution": {
     "iopub.execute_input": "2023-11-26T11:43:16.573908Z",
     "iopub.status.busy": "2023-11-26T11:43:16.573538Z",
     "iopub.status.idle": "2023-11-26T11:43:17.448367Z",
     "shell.execute_reply": "2023-11-26T11:43:17.447258Z"
    },
    "papermill": {
     "duration": 0.894341,
     "end_time": "2023-11-26T11:43:17.450636",
     "exception": false,
     "start_time": "2023-11-26T11:43:16.556295",
     "status": "completed"
    },
    "tags": []
   },
   "outputs": [],
   "source": [
    "y_pred_test=xgb.predict(test)"
   ]
  },
  {
   "cell_type": "markdown",
   "id": "9b183d8c",
   "metadata": {
    "papermill": {
     "duration": 0.015934,
     "end_time": "2023-11-26T11:43:17.484043",
     "exception": false,
     "start_time": "2023-11-26T11:43:17.468109",
     "status": "completed"
    },
    "tags": []
   },
   "source": [
    "## 7. Submission Preparation\n",
    "* ### Created a DataFrame with predicted classes, performed rounding, and prepared the submission CSV file.\n"
   ]
  },
  {
   "cell_type": "code",
   "execution_count": 39,
   "id": "d0fb3c53",
   "metadata": {
    "execution": {
     "iopub.execute_input": "2023-11-26T11:43:17.519679Z",
     "iopub.status.busy": "2023-11-26T11:43:17.519336Z",
     "iopub.status.idle": "2023-11-26T11:43:17.529573Z",
     "shell.execute_reply": "2023-11-26T11:43:17.528235Z"
    },
    "papermill": {
     "duration": 0.031741,
     "end_time": "2023-11-26T11:43:17.532208",
     "exception": false,
     "start_time": "2023-11-26T11:43:17.500467",
     "status": "completed"
    },
    "tags": []
   },
   "outputs": [
    {
     "data": {
      "text/html": [
       "<div>\n",
       "<style scoped>\n",
       "    .dataframe tbody tr th:only-of-type {\n",
       "        vertical-align: middle;\n",
       "    }\n",
       "\n",
       "    .dataframe tbody tr th {\n",
       "        vertical-align: top;\n",
       "    }\n",
       "\n",
       "    .dataframe thead th {\n",
       "        text-align: right;\n",
       "    }\n",
       "</style>\n",
       "<table border=\"1\" class=\"dataframe\">\n",
       "  <thead>\n",
       "    <tr style=\"text-align: right;\">\n",
       "      <th></th>\n",
       "      <th>0</th>\n",
       "    </tr>\n",
       "  </thead>\n",
       "  <tbody>\n",
       "    <tr>\n",
       "      <th>0</th>\n",
       "      <td>0</td>\n",
       "    </tr>\n",
       "    <tr>\n",
       "      <th>1</th>\n",
       "      <td>0</td>\n",
       "    </tr>\n",
       "    <tr>\n",
       "      <th>2</th>\n",
       "      <td>0</td>\n",
       "    </tr>\n",
       "    <tr>\n",
       "      <th>3</th>\n",
       "      <td>0</td>\n",
       "    </tr>\n",
       "    <tr>\n",
       "      <th>4</th>\n",
       "      <td>0</td>\n",
       "    </tr>\n",
       "    <tr>\n",
       "      <th>...</th>\n",
       "      <td>...</td>\n",
       "    </tr>\n",
       "    <tr>\n",
       "      <th>555714</th>\n",
       "      <td>0</td>\n",
       "    </tr>\n",
       "    <tr>\n",
       "      <th>555715</th>\n",
       "      <td>0</td>\n",
       "    </tr>\n",
       "    <tr>\n",
       "      <th>555716</th>\n",
       "      <td>0</td>\n",
       "    </tr>\n",
       "    <tr>\n",
       "      <th>555717</th>\n",
       "      <td>0</td>\n",
       "    </tr>\n",
       "    <tr>\n",
       "      <th>555718</th>\n",
       "      <td>0</td>\n",
       "    </tr>\n",
       "  </tbody>\n",
       "</table>\n",
       "<p>555719 rows × 1 columns</p>\n",
       "</div>"
      ],
      "text/plain": [
       "        0\n",
       "0       0\n",
       "1       0\n",
       "2       0\n",
       "3       0\n",
       "4       0\n",
       "...    ..\n",
       "555714  0\n",
       "555715  0\n",
       "555716  0\n",
       "555717  0\n",
       "555718  0\n",
       "\n",
       "[555719 rows x 1 columns]"
      ]
     },
     "execution_count": 39,
     "metadata": {},
     "output_type": "execute_result"
    }
   ],
   "source": [
    "Y=pd.DataFrame(y_pred_test)\n",
    "Y"
   ]
  },
  {
   "cell_type": "code",
   "execution_count": 40,
   "id": "bf40a2ff",
   "metadata": {
    "execution": {
     "iopub.execute_input": "2023-11-26T11:43:17.569360Z",
     "iopub.status.busy": "2023-11-26T11:43:17.568506Z",
     "iopub.status.idle": "2023-11-26T11:43:17.579446Z",
     "shell.execute_reply": "2023-11-26T11:43:17.578440Z"
    },
    "papermill": {
     "duration": 0.032364,
     "end_time": "2023-11-26T11:43:17.581264",
     "exception": false,
     "start_time": "2023-11-26T11:43:17.548900",
     "status": "completed"
    },
    "tags": []
   },
   "outputs": [
    {
     "data": {
      "text/html": [
       "<div>\n",
       "<style scoped>\n",
       "    .dataframe tbody tr th:only-of-type {\n",
       "        vertical-align: middle;\n",
       "    }\n",
       "\n",
       "    .dataframe tbody tr th {\n",
       "        vertical-align: top;\n",
       "    }\n",
       "\n",
       "    .dataframe thead th {\n",
       "        text-align: right;\n",
       "    }\n",
       "</style>\n",
       "<table border=\"1\" class=\"dataframe\">\n",
       "  <thead>\n",
       "    <tr style=\"text-align: right;\">\n",
       "      <th></th>\n",
       "      <th>id</th>\n",
       "      <th>0</th>\n",
       "    </tr>\n",
       "  </thead>\n",
       "  <tbody>\n",
       "    <tr>\n",
       "      <th>0</th>\n",
       "      <td>1</td>\n",
       "      <td>0</td>\n",
       "    </tr>\n",
       "    <tr>\n",
       "      <th>1</th>\n",
       "      <td>2</td>\n",
       "      <td>0</td>\n",
       "    </tr>\n",
       "    <tr>\n",
       "      <th>2</th>\n",
       "      <td>3</td>\n",
       "      <td>0</td>\n",
       "    </tr>\n",
       "    <tr>\n",
       "      <th>3</th>\n",
       "      <td>4</td>\n",
       "      <td>0</td>\n",
       "    </tr>\n",
       "    <tr>\n",
       "      <th>4</th>\n",
       "      <td>5</td>\n",
       "      <td>0</td>\n",
       "    </tr>\n",
       "    <tr>\n",
       "      <th>...</th>\n",
       "      <td>...</td>\n",
       "      <td>...</td>\n",
       "    </tr>\n",
       "    <tr>\n",
       "      <th>555714</th>\n",
       "      <td>555715</td>\n",
       "      <td>0</td>\n",
       "    </tr>\n",
       "    <tr>\n",
       "      <th>555715</th>\n",
       "      <td>555716</td>\n",
       "      <td>0</td>\n",
       "    </tr>\n",
       "    <tr>\n",
       "      <th>555716</th>\n",
       "      <td>555717</td>\n",
       "      <td>0</td>\n",
       "    </tr>\n",
       "    <tr>\n",
       "      <th>555717</th>\n",
       "      <td>555718</td>\n",
       "      <td>0</td>\n",
       "    </tr>\n",
       "    <tr>\n",
       "      <th>555718</th>\n",
       "      <td>555719</td>\n",
       "      <td>0</td>\n",
       "    </tr>\n",
       "  </tbody>\n",
       "</table>\n",
       "<p>555719 rows × 2 columns</p>\n",
       "</div>"
      ],
      "text/plain": [
       "            id  0\n",
       "0            1  0\n",
       "1            2  0\n",
       "2            3  0\n",
       "3            4  0\n",
       "4            5  0\n",
       "...        ... ..\n",
       "555714  555715  0\n",
       "555715  555716  0\n",
       "555716  555717  0\n",
       "555717  555718  0\n",
       "555718  555719  0\n",
       "\n",
       "[555719 rows x 2 columns]"
      ]
     },
     "execution_count": 40,
     "metadata": {},
     "output_type": "execute_result"
    }
   ],
   "source": [
    "Y.insert(0,\"id\",range(1,1+len(Y)))\n",
    "Y"
   ]
  },
  {
   "cell_type": "code",
   "execution_count": 41,
   "id": "0c9f6286",
   "metadata": {
    "execution": {
     "iopub.execute_input": "2023-11-26T11:43:17.616858Z",
     "iopub.status.busy": "2023-11-26T11:43:17.616236Z",
     "iopub.status.idle": "2023-11-26T11:43:18.125884Z",
     "shell.execute_reply": "2023-11-26T11:43:18.124578Z"
    },
    "papermill": {
     "duration": 0.529959,
     "end_time": "2023-11-26T11:43:18.128099",
     "exception": false,
     "start_time": "2023-11-26T11:43:17.598140",
     "status": "completed"
    },
    "tags": []
   },
   "outputs": [],
   "source": [
    "Y.to_csv(\"sample106.csv\",index=False)"
   ]
  },
  {
   "cell_type": "markdown",
   "id": "9e261dba",
   "metadata": {
    "papermill": {
     "duration": 0.017498,
     "end_time": "2023-11-26T11:43:18.163034",
     "exception": false,
     "start_time": "2023-11-26T11:43:18.145536",
     "status": "completed"
    },
    "tags": []
   },
   "source": [
    "# Conclusion\n",
    "The entire workflow demonstrates a comprehensive approach to fraud detection, encompassing data exploration, feature engineering, model building, evaluation, and submission preparation. The Voting Classifier, combining Random Forest and XGBoost, showcases a robust solution for tackling fraud detection challenges. The model's performance is assessed through various metrics and visualizations, providing a holistic view of its strengths and potential areas for improvement.\n",
    "\n",
    "The overall conclusion is that the developed fraud detection model, leveraging ensemble learning and thoughtful feature engineering, is a strong candidate for accurately identifying fraudulent transactions in the given dataset."
   ]
  },
  {
   "cell_type": "code",
   "execution_count": null,
   "id": "1fd678b0",
   "metadata": {
    "papermill": {
     "duration": 0.01623,
     "end_time": "2023-11-26T11:43:18.196184",
     "exception": false,
     "start_time": "2023-11-26T11:43:18.179954",
     "status": "completed"
    },
    "tags": []
   },
   "outputs": [],
   "source": []
  }
 ],
 "metadata": {
  "kaggle": {
   "accelerator": "none",
   "dataSources": [
    {
     "databundleVersionId": 6872631,
     "sourceId": 63054,
     "sourceType": "competition"
    },
    {
     "datasetId": 3954939,
     "sourceId": 6883740,
     "sourceType": "datasetVersion"
    }
   ],
   "dockerImageVersionId": 30587,
   "isGpuEnabled": false,
   "isInternetEnabled": true,
   "language": "python",
   "sourceType": "notebook"
  },
  "kernelspec": {
   "display_name": "Python 3",
   "language": "python",
   "name": "python3"
  },
  "language_info": {
   "codemirror_mode": {
    "name": "ipython",
    "version": 3
   },
   "file_extension": ".py",
   "mimetype": "text/x-python",
   "name": "python",
   "nbconvert_exporter": "python",
   "pygments_lexer": "ipython3",
   "version": "3.10.12"
  },
  "papermill": {
   "default_parameters": {},
   "duration": 819.460151,
   "end_time": "2023-11-26T11:43:19.038547",
   "environment_variables": {},
   "exception": null,
   "input_path": "__notebook__.ipynb",
   "output_path": "__notebook__.ipynb",
   "parameters": {},
   "start_time": "2023-11-26T11:29:39.578396",
   "version": "2.4.0"
  }
 },
 "nbformat": 4,
 "nbformat_minor": 5
}
